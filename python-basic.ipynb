{
 "cells": [
  {
   "cell_type": "markdown",
   "id": "e9688bd7",
   "metadata": {},
   "source": [
    "# 1.Variable"
   ]
  },
  {
   "cell_type": "code",
   "execution_count": 1,
   "id": "9936c67e",
   "metadata": {},
   "outputs": [],
   "source": [
    "nama='suma'"
   ]
  },
  {
   "cell_type": "code",
   "execution_count": 2,
   "id": "07ea6007",
   "metadata": {},
   "outputs": [
    {
     "name": "stdout",
     "output_type": "stream",
     "text": [
      "suma\n"
     ]
    }
   ],
   "source": [
    "print(nama)"
   ]
  },
  {
   "cell_type": "markdown",
   "id": "b0865718",
   "metadata": {},
   "source": [
    "# 2. Data Types"
   ]
  },
  {
   "cell_type": "code",
   "execution_count": 3,
   "id": "2eebef8e",
   "metadata": {},
   "outputs": [],
   "source": [
    "#create int\n",
    "number = 123"
   ]
  },
  {
   "cell_type": "code",
   "execution_count": 4,
   "id": "5dfe8e92",
   "metadata": {},
   "outputs": [
    {
     "data": {
      "text/plain": [
       "int"
      ]
     },
     "execution_count": 4,
     "metadata": {},
     "output_type": "execute_result"
    }
   ],
   "source": [
    "type(number)"
   ]
  },
  {
   "cell_type": "code",
   "execution_count": 5,
   "id": "18917bb2",
   "metadata": {},
   "outputs": [],
   "source": [
    "#create string\n",
    "number_string='satu'"
   ]
  },
  {
   "cell_type": "code",
   "execution_count": 6,
   "id": "9f53f3c2",
   "metadata": {},
   "outputs": [
    {
     "data": {
      "text/plain": [
       "str"
      ]
     },
     "execution_count": 6,
     "metadata": {},
     "output_type": "execute_result"
    }
   ],
   "source": [
    "type(number_string)"
   ]
  },
  {
   "cell_type": "code",
   "execution_count": 7,
   "id": "4e5e2a26",
   "metadata": {},
   "outputs": [],
   "source": [
    "#create float\n",
    "number_float=123.2"
   ]
  },
  {
   "cell_type": "code",
   "execution_count": 8,
   "id": "b3fb8853",
   "metadata": {},
   "outputs": [
    {
     "data": {
      "text/plain": [
       "float"
      ]
     },
     "execution_count": 8,
     "metadata": {},
     "output_type": "execute_result"
    }
   ],
   "source": [
    "type(number_float)"
   ]
  },
  {
   "cell_type": "code",
   "execution_count": 9,
   "id": "0e5e507f",
   "metadata": {},
   "outputs": [],
   "source": [
    "#create bool\n",
    "bool_variable=True"
   ]
  },
  {
   "cell_type": "code",
   "execution_count": 10,
   "id": "8ae5269e",
   "metadata": {},
   "outputs": [
    {
     "data": {
      "text/plain": [
       "bool"
      ]
     },
     "execution_count": 10,
     "metadata": {},
     "output_type": "execute_result"
    }
   ],
   "source": [
    "type(bool_variable)"
   ]
  },
  {
   "cell_type": "code",
   "execution_count": 11,
   "id": "1d0094c6",
   "metadata": {},
   "outputs": [],
   "source": [
    "bool_variable_f=bool(0)"
   ]
  },
  {
   "cell_type": "code",
   "execution_count": 12,
   "id": "778784bc",
   "metadata": {},
   "outputs": [
    {
     "data": {
      "text/plain": [
       "False"
      ]
     },
     "execution_count": 12,
     "metadata": {},
     "output_type": "execute_result"
    }
   ],
   "source": [
    "bool_variable_f"
   ]
  },
  {
   "cell_type": "code",
   "execution_count": 13,
   "id": "d34c9a3c",
   "metadata": {},
   "outputs": [],
   "source": [
    "#creating a list variable\n",
    "list_variable=[1,2,3,4,4.5]"
   ]
  },
  {
   "cell_type": "code",
   "execution_count": 14,
   "id": "aa6c9bb6",
   "metadata": {},
   "outputs": [
    {
     "data": {
      "text/plain": [
       "list"
      ]
     },
     "execution_count": 14,
     "metadata": {},
     "output_type": "execute_result"
    }
   ],
   "source": [
    "type(list_variable)"
   ]
  },
  {
   "cell_type": "code",
   "execution_count": 15,
   "id": "edec406e",
   "metadata": {},
   "outputs": [],
   "source": [
    "list_variable[1]=234"
   ]
  },
  {
   "cell_type": "code",
   "execution_count": 16,
   "id": "912e04c3",
   "metadata": {},
   "outputs": [
    {
     "data": {
      "text/plain": [
       "[1, 234, 3, 4, 4.5]"
      ]
     },
     "execution_count": 16,
     "metadata": {},
     "output_type": "execute_result"
    }
   ],
   "source": [
    "list_variable"
   ]
  },
  {
   "cell_type": "code",
   "execution_count": 17,
   "id": "18abe55d",
   "metadata": {},
   "outputs": [
    {
     "data": {
      "text/plain": [
       "tuple"
      ]
     },
     "execution_count": 17,
     "metadata": {},
     "output_type": "execute_result"
    }
   ],
   "source": [
    "#create a tuple variable, IMMUTABLE=you can't change the value\n",
    "tuple_variable=(1,2,3,4,4.5)\n",
    "type(tuple_variable)"
   ]
  },
  {
   "cell_type": "code",
   "execution_count": 18,
   "id": "0b223f1c",
   "metadata": {},
   "outputs": [
    {
     "data": {
      "text/plain": [
       "1"
      ]
     },
     "execution_count": 18,
     "metadata": {},
     "output_type": "execute_result"
    }
   ],
   "source": [
    "tuple_variable[0]\n"
   ]
  },
  {
   "cell_type": "code",
   "execution_count": 19,
   "id": "002f41fd",
   "metadata": {},
   "outputs": [
    {
     "data": {
      "text/plain": [
       "set"
      ]
     },
     "execution_count": 19,
     "metadata": {},
     "output_type": "execute_result"
    }
   ],
   "source": [
    "# this is creating a set variable, IMMUTABLE=you can't change the value\n",
    "set_variable={1,2,3,4,4.5}\n",
    "type(set_variable)"
   ]
  },
  {
   "cell_type": "code",
   "execution_count": 20,
   "id": "b1e360c8",
   "metadata": {},
   "outputs": [
    {
     "data": {
      "text/plain": [
       "[1, 3, 4, 4.5, 234]"
      ]
     },
     "execution_count": 20,
     "metadata": {},
     "output_type": "execute_result"
    }
   ],
   "source": [
    "#type casting list to set back to list to get rid of duplicate\n",
    "list(set(list_variable))"
   ]
  },
  {
   "cell_type": "code",
   "execution_count": 21,
   "id": "656b60e0",
   "metadata": {},
   "outputs": [
    {
     "data": {
      "text/plain": [
       "list"
      ]
     },
     "execution_count": 21,
     "metadata": {},
     "output_type": "execute_result"
    }
   ],
   "source": [
    "type(list(set(list_variable)))"
   ]
  },
  {
   "cell_type": "code",
   "execution_count": 22,
   "id": "ae6b8478",
   "metadata": {},
   "outputs": [],
   "source": [
    "#defining a dictionary variable\n",
    "person_variable={'name':\"suma\", 'favorite_color':'red', 'favorite_number':20}"
   ]
  },
  {
   "cell_type": "code",
   "execution_count": 23,
   "id": "e6b39315",
   "metadata": {},
   "outputs": [
    {
     "data": {
      "text/plain": [
       "dict"
      ]
     },
     "execution_count": 23,
     "metadata": {},
     "output_type": "execute_result"
    }
   ],
   "source": [
    "type(person_variable)"
   ]
  },
  {
   "cell_type": "code",
   "execution_count": 24,
   "id": "379fc0cf",
   "metadata": {},
   "outputs": [
    {
     "name": "stdout",
     "output_type": "stream",
     "text": [
      "{'name': 'suma', 'favorite_color': 'red', 'favorite_number': 20}\n"
     ]
    }
   ],
   "source": [
    "print(person_variable)"
   ]
  },
  {
   "cell_type": "code",
   "execution_count": 25,
   "id": "e6f6c13d",
   "metadata": {},
   "outputs": [
    {
     "data": {
      "text/plain": [
       "'suma'"
      ]
     },
     "execution_count": 25,
     "metadata": {},
     "output_type": "execute_result"
    }
   ],
   "source": [
    "person_variable['name']"
   ]
  },
  {
   "cell_type": "code",
   "execution_count": 26,
   "id": "17a4f145",
   "metadata": {},
   "outputs": [],
   "source": [
    "fit_models={}"
   ]
  },
  {
   "cell_type": "code",
   "execution_count": 27,
   "id": "e098e61b",
   "metadata": {},
   "outputs": [
    {
     "data": {
      "text/plain": [
       "(1, 234, 3, 4, 4.5)"
      ]
     },
     "execution_count": 27,
     "metadata": {},
     "output_type": "execute_result"
    }
   ],
   "source": [
    "tuple(list_variable)"
   ]
  },
  {
   "cell_type": "markdown",
   "id": "a0870dac",
   "metadata": {},
   "source": [
    "# 3.List"
   ]
  },
  {
   "cell_type": "code",
   "execution_count": 28,
   "id": "47a8f1bb",
   "metadata": {},
   "outputs": [],
   "source": [
    "#create\n",
    "names=['neil armstrong','buzz aldrin','sally ride','yuri gagarin','elon musk']"
   ]
  },
  {
   "cell_type": "code",
   "execution_count": 29,
   "id": "c1b1c072",
   "metadata": {},
   "outputs": [
    {
     "data": {
      "text/plain": [
       "['neil armstrong', 'buzz aldrin', 'sally ride', 'yuri gagarin', 'elon musk']"
      ]
     },
     "execution_count": 29,
     "metadata": {},
     "output_type": "execute_result"
    }
   ],
   "source": [
    "#Read\n",
    "names"
   ]
  },
  {
   "cell_type": "code",
   "execution_count": 30,
   "id": "6eece34f",
   "metadata": {},
   "outputs": [
    {
     "data": {
      "text/plain": [
       "'neil armstrong'"
      ]
     },
     "execution_count": 30,
     "metadata": {},
     "output_type": "execute_result"
    }
   ],
   "source": [
    "#reading using indexing\n",
    "names[0]"
   ]
  },
  {
   "cell_type": "code",
   "execution_count": 31,
   "id": "e1e54203",
   "metadata": {},
   "outputs": [
    {
     "data": {
      "text/plain": [
       "'elon musk'"
      ]
     },
     "execution_count": 31,
     "metadata": {},
     "output_type": "execute_result"
    }
   ],
   "source": [
    "names[-1]"
   ]
  },
  {
   "cell_type": "code",
   "execution_count": 32,
   "id": "172f11e9",
   "metadata": {},
   "outputs": [
    {
     "data": {
      "text/plain": [
       "5"
      ]
     },
     "execution_count": 32,
     "metadata": {},
     "output_type": "execute_result"
    }
   ],
   "source": [
    "len(names)"
   ]
  },
  {
   "cell_type": "code",
   "execution_count": 33,
   "id": "c79f3136",
   "metadata": {},
   "outputs": [],
   "source": [
    "#Update"
   ]
  },
  {
   "cell_type": "code",
   "execution_count": 34,
   "id": "5a0a32c5",
   "metadata": {},
   "outputs": [
    {
     "data": {
      "text/plain": [
       "['neil armstrong', 'buzz aldrin', 'sally ride', 'yuri gagarin', 'suma']"
      ]
     },
     "execution_count": 34,
     "metadata": {},
     "output_type": "execute_result"
    }
   ],
   "source": [
    "names[-1]='suma'\n",
    "names"
   ]
  },
  {
   "cell_type": "code",
   "execution_count": 35,
   "id": "23f614b3",
   "metadata": {},
   "outputs": [],
   "source": [
    "names.append('elon musk')"
   ]
  },
  {
   "cell_type": "code",
   "execution_count": 36,
   "id": "c372e8a0",
   "metadata": {},
   "outputs": [
    {
     "data": {
      "text/plain": [
       "['neil armstrong',\n",
       " 'buzz aldrin',\n",
       " 'sally ride',\n",
       " 'yuri gagarin',\n",
       " 'suma',\n",
       " 'elon musk']"
      ]
     },
     "execution_count": 36,
     "metadata": {},
     "output_type": "execute_result"
    }
   ],
   "source": [
    "names"
   ]
  },
  {
   "cell_type": "code",
   "execution_count": 37,
   "id": "239a0739",
   "metadata": {},
   "outputs": [],
   "source": [
    "names.insert??"
   ]
  },
  {
   "cell_type": "code",
   "execution_count": 38,
   "id": "db94343f",
   "metadata": {},
   "outputs": [],
   "source": [
    "names.insert(0,'richard')"
   ]
  },
  {
   "cell_type": "code",
   "execution_count": 39,
   "id": "4046f1d5",
   "metadata": {},
   "outputs": [
    {
     "data": {
      "text/plain": [
       "['richard',\n",
       " 'neil armstrong',\n",
       " 'buzz aldrin',\n",
       " 'sally ride',\n",
       " 'yuri gagarin',\n",
       " 'suma',\n",
       " 'elon musk']"
      ]
     },
     "execution_count": 39,
     "metadata": {},
     "output_type": "execute_result"
    }
   ],
   "source": [
    "names"
   ]
  },
  {
   "cell_type": "code",
   "execution_count": 40,
   "id": "79e94a5a",
   "metadata": {},
   "outputs": [],
   "source": [
    "#Delete"
   ]
  },
  {
   "cell_type": "code",
   "execution_count": 41,
   "id": "c02b676e",
   "metadata": {},
   "outputs": [],
   "source": [
    "del names[-2]"
   ]
  },
  {
   "cell_type": "code",
   "execution_count": 42,
   "id": "823801a0",
   "metadata": {},
   "outputs": [
    {
     "data": {
      "text/plain": [
       "['richard',\n",
       " 'neil armstrong',\n",
       " 'buzz aldrin',\n",
       " 'sally ride',\n",
       " 'yuri gagarin',\n",
       " 'elon musk']"
      ]
     },
     "execution_count": 42,
     "metadata": {},
     "output_type": "execute_result"
    }
   ],
   "source": [
    "names"
   ]
  },
  {
   "cell_type": "markdown",
   "id": "453aa138",
   "metadata": {},
   "source": [
    "# 4.Dictionaries"
   ]
  },
  {
   "cell_type": "code",
   "execution_count": 43,
   "id": "ddf229c3",
   "metadata": {},
   "outputs": [],
   "source": [
    "#create\n",
    "astronaut={\n",
    "    'name':'elon musk',\n",
    "    'suit_size':'large',\n",
    "    'allergies':'peanuts'\n",
    "}"
   ]
  },
  {
   "cell_type": "code",
   "execution_count": 44,
   "id": "ad0ffc78",
   "metadata": {},
   "outputs": [],
   "source": [
    "#Read"
   ]
  },
  {
   "cell_type": "code",
   "execution_count": 45,
   "id": "39b611e1",
   "metadata": {},
   "outputs": [
    {
     "data": {
      "text/plain": [
       "{'name': 'elon musk', 'suit_size': 'large', 'allergies': 'peanuts'}"
      ]
     },
     "execution_count": 45,
     "metadata": {},
     "output_type": "execute_result"
    }
   ],
   "source": [
    "astronaut"
   ]
  },
  {
   "cell_type": "code",
   "execution_count": 46,
   "id": "fa755a79",
   "metadata": {},
   "outputs": [
    {
     "data": {
      "text/plain": [
       "'large'"
      ]
     },
     "execution_count": 46,
     "metadata": {},
     "output_type": "execute_result"
    }
   ],
   "source": [
    "astronaut['suit_size']"
   ]
  },
  {
   "cell_type": "code",
   "execution_count": 47,
   "id": "cbd0d857",
   "metadata": {},
   "outputs": [
    {
     "data": {
      "text/plain": [
       "dict_keys(['name', 'suit_size', 'allergies'])"
      ]
     },
     "execution_count": 47,
     "metadata": {},
     "output_type": "execute_result"
    }
   ],
   "source": [
    "astronaut.keys()"
   ]
  },
  {
   "cell_type": "code",
   "execution_count": 48,
   "id": "d88fea42",
   "metadata": {},
   "outputs": [
    {
     "data": {
      "text/plain": [
       "dict_values(['elon musk', 'large', 'peanuts'])"
      ]
     },
     "execution_count": 48,
     "metadata": {},
     "output_type": "execute_result"
    }
   ],
   "source": [
    "astronaut.values()"
   ]
  },
  {
   "cell_type": "code",
   "execution_count": 49,
   "id": "e7232b64",
   "metadata": {},
   "outputs": [],
   "source": [
    "#Update"
   ]
  },
  {
   "cell_type": "code",
   "execution_count": 50,
   "id": "bd77b5ac",
   "metadata": {},
   "outputs": [],
   "source": [
    "astronaut['allergies']='mango'"
   ]
  },
  {
   "cell_type": "code",
   "execution_count": 51,
   "id": "0ac06d9e",
   "metadata": {},
   "outputs": [
    {
     "data": {
      "text/plain": [
       "{'name': 'elon musk', 'suit_size': 'large', 'allergies': 'mango'}"
      ]
     },
     "execution_count": 51,
     "metadata": {},
     "output_type": "execute_result"
    }
   ],
   "source": [
    "astronaut"
   ]
  },
  {
   "cell_type": "code",
   "execution_count": 52,
   "id": "40b309da",
   "metadata": {},
   "outputs": [],
   "source": [
    "astronaut['space_ship']='Galactic 1'"
   ]
  },
  {
   "cell_type": "code",
   "execution_count": 53,
   "id": "5fc35d44",
   "metadata": {},
   "outputs": [
    {
     "data": {
      "text/plain": [
       "{'name': 'elon musk',\n",
       " 'suit_size': 'large',\n",
       " 'allergies': 'mango',\n",
       " 'space_ship': 'Galactic 1'}"
      ]
     },
     "execution_count": 53,
     "metadata": {},
     "output_type": "execute_result"
    }
   ],
   "source": [
    "astronaut"
   ]
  },
  {
   "cell_type": "code",
   "execution_count": 54,
   "id": "da68ede8",
   "metadata": {},
   "outputs": [],
   "source": [
    "#Delete"
   ]
  },
  {
   "cell_type": "code",
   "execution_count": 55,
   "id": "46a80fec",
   "metadata": {},
   "outputs": [],
   "source": [
    "del astronaut['space_ship']"
   ]
  },
  {
   "cell_type": "code",
   "execution_count": 56,
   "id": "157c3da4",
   "metadata": {},
   "outputs": [
    {
     "data": {
      "text/plain": [
       "{'name': 'elon musk', 'suit_size': 'large', 'allergies': 'mango'}"
      ]
     },
     "execution_count": 56,
     "metadata": {},
     "output_type": "execute_result"
    }
   ],
   "source": [
    "astronaut"
   ]
  },
  {
   "cell_type": "markdown",
   "id": "1facbc1c",
   "metadata": {},
   "source": [
    "# 5. Conditions and Logic"
   ]
  },
  {
   "cell_type": "code",
   "execution_count": 57,
   "id": "3360acc3",
   "metadata": {},
   "outputs": [],
   "source": [
    "#Appling Logic using the IF statement\n",
    "name='Suma'\n",
    "if name == 'Neil Armstrong':\n",
    "    print('Sup Neil')"
   ]
  },
  {
   "cell_type": "code",
   "execution_count": 58,
   "id": "6c852b66",
   "metadata": {},
   "outputs": [
    {
     "name": "stdout",
     "output_type": "stream",
     "text": [
      "number is greater than equal to 5\n"
     ]
    }
   ],
   "source": [
    "test_number = 10\n",
    "if test_number >=5:\n",
    "    print('number is greater than equal to 5')"
   ]
  },
  {
   "cell_type": "code",
   "execution_count": 59,
   "id": "a92df59e",
   "metadata": {},
   "outputs": [
    {
     "name": "stdout",
     "output_type": "stream",
     "text": [
      "False\n"
     ]
    }
   ],
   "source": [
    "probabilty = 0.04\n",
    "#Probabilty is greater than 0.5\n",
    "if probabilty >=0.5:\n",
    "    print(True)\n",
    "    \n",
    "#Print out a statment is probability is below\n",
    "elif probabilty < 0:\n",
    "    print('check you probabilties')\n",
    "\n",
    "    \n",
    "#Anything else\n",
    "else:\n",
    "    print(False)"
   ]
  },
  {
   "cell_type": "code",
   "execution_count": 60,
   "id": "9673b9d6",
   "metadata": {},
   "outputs": [
    {
     "name": "stdout",
     "output_type": "stream",
     "text": [
      "Elon's here\n"
     ]
    }
   ],
   "source": [
    "#vreate a list of names\n",
    "names=['neil armstrong','buzz aldrin','sally ride','yuri gagarin','elon musk']\n",
    "if 'elon musk' in names:\n",
    "    #using python escapes\n",
    "    print('Elon\\'s here')"
   ]
  },
  {
   "cell_type": "markdown",
   "id": "518a30e9",
   "metadata": {},
   "source": [
    "# 6.Loops"
   ]
  },
  {
   "cell_type": "code",
   "execution_count": 61,
   "id": "5ddd19e5",
   "metadata": {},
   "outputs": [
    {
     "name": "stdout",
     "output_type": "stream",
     "text": [
      "neil armstrong\n",
      "Please to have you here !\n",
      "\n",
      "buzz aldrin\n",
      "sup buzz\n",
      "\n",
      "sally ride\n",
      "Please to have you here !\n",
      "\n",
      "yuri gagarin\n",
      "Hey yuri\n"
     ]
    }
   ],
   "source": [
    "#thi is an example of a for Loop\n",
    "for name in names:\n",
    "    print(name)\n",
    "    \n",
    "    #Condition statement block\n",
    "    if name == 'buzz aldrin':\n",
    "        print('sup buzz\\n')\n",
    "        #Next value in the loop\n",
    "        continue\n",
    "    elif name =='yuri gagarin':\n",
    "        print('Hey yuri')\n",
    "        #Break statement stops the loop\n",
    "        break\n",
    "    #catch all\n",
    "    else:\n",
    "        #Placeholder to do nothing\n",
    "        pass\n",
    "    # outside of if statement block\n",
    "    print('Please to have you here !\\n')"
   ]
  },
  {
   "cell_type": "code",
   "execution_count": 62,
   "id": "002dfedb",
   "metadata": {},
   "outputs": [
    {
     "name": "stdout",
     "output_type": "stream",
     "text": [
      "1\n",
      "2\n",
      "3\n",
      "4\n",
      "5\n",
      "6\n",
      "7\n",
      "8\n",
      "9\n",
      "10\n"
     ]
    }
   ],
   "source": [
    "#loop x number of times\n",
    "for idx in range(1,11):\n",
    "    print(idx)"
   ]
  },
  {
   "cell_type": "code",
   "execution_count": 63,
   "id": "3b48eaab",
   "metadata": {},
   "outputs": [
    {
     "name": "stdout",
     "output_type": "stream",
     "text": [
      "Shuttle 1 launched\n",
      "Shuttle 2 launched\n",
      "Shuttle 3 launched\n",
      "Shuttle 4 launched\n",
      "Shuttle 5 launched\n",
      "all shuttles launched\n"
     ]
    }
   ],
   "source": [
    "#create launch variables\n",
    "launched_shuttles=0\n",
    "total_shuttles=5\n",
    "\n",
    "#Create while loop\n",
    "while True:\n",
    "    #string formatting\n",
    "    print('Shuttle {} launched'.format(launched_shuttles+1))\n",
    "    launched_shuttles += 1 #launched_shuttles + 1\n",
    "    \n",
    "    if launched_shuttles == total_shuttles:\n",
    "        print('all shuttles launched')\n",
    "        break"
   ]
  },
  {
   "cell_type": "code",
   "execution_count": 64,
   "id": "65772417",
   "metadata": {},
   "outputs": [],
   "source": [
    "astronaut={\n",
    "    \"name\":\"suma\",\n",
    "    \"suit_size\":\"medium\",\n",
    "    \"allergies\":\"peanuts\"\n",
    "}"
   ]
  },
  {
   "cell_type": "code",
   "execution_count": 65,
   "id": "88b20e45",
   "metadata": {},
   "outputs": [
    {
     "data": {
      "text/plain": [
       "dict_keys(['name', 'suit_size', 'allergies'])"
      ]
     },
     "execution_count": 65,
     "metadata": {},
     "output_type": "execute_result"
    }
   ],
   "source": [
    "#accessing dictionary keys\n",
    "astronaut.keys()"
   ]
  },
  {
   "cell_type": "code",
   "execution_count": 66,
   "id": "fe1b474a",
   "metadata": {},
   "outputs": [
    {
     "name": "stdout",
     "output_type": "stream",
     "text": [
      "name\n",
      "suit_size\n",
      "allergies\n"
     ]
    }
   ],
   "source": [
    "#Loop through keys in a dictiobary\n",
    "for key in astronaut.keys():\n",
    "    print(key)"
   ]
  },
  {
   "cell_type": "code",
   "execution_count": 67,
   "id": "6d884718",
   "metadata": {},
   "outputs": [
    {
     "data": {
      "text/plain": [
       "dict_values(['suma', 'medium', 'peanuts'])"
      ]
     },
     "execution_count": 67,
     "metadata": {},
     "output_type": "execute_result"
    }
   ],
   "source": [
    "#Accessing dictionary values\n",
    "astronaut.values()"
   ]
  },
  {
   "cell_type": "code",
   "execution_count": 68,
   "id": "a001337b",
   "metadata": {},
   "outputs": [
    {
     "name": "stdout",
     "output_type": "stream",
     "text": [
      "suma\n",
      "medium\n",
      "peanuts\n"
     ]
    }
   ],
   "source": [
    "#Loop through values in a dictionary\n",
    "for value in astronaut.values():\n",
    "    print(value)"
   ]
  },
  {
   "cell_type": "code",
   "execution_count": 69,
   "id": "6939bcc4",
   "metadata": {},
   "outputs": [
    {
     "data": {
      "text/plain": [
       "dict_items([('name', 'suma'), ('suit_size', 'medium'), ('allergies', 'peanuts')])"
      ]
     },
     "execution_count": 69,
     "metadata": {},
     "output_type": "execute_result"
    }
   ],
   "source": [
    "astronaut.items()"
   ]
  },
  {
   "cell_type": "code",
   "execution_count": 70,
   "id": "312c6116",
   "metadata": {},
   "outputs": [
    {
     "name": "stdout",
     "output_type": "stream",
     "text": [
      "name\n",
      "suma \n",
      "\n",
      "suit_size\n",
      "medium \n",
      "\n",
      "allergies\n",
      "peanuts \n",
      "\n"
     ]
    }
   ],
   "source": [
    "#loop through keys and values at the same time\n",
    "for key, value in astronaut.items():\n",
    "    print(key)\n",
    "    print(value ,'\\n')"
   ]
  },
  {
   "cell_type": "code",
   "execution_count": 71,
   "id": "ee9a5afb",
   "metadata": {},
   "outputs": [],
   "source": [
    "#list comprehensions\n",
    "new_list=[name.title() for name in names]"
   ]
  },
  {
   "cell_type": "code",
   "execution_count": 72,
   "id": "f52e8ee7",
   "metadata": {},
   "outputs": [
    {
     "data": {
      "text/plain": [
       "['Neil Armstrong', 'Buzz Aldrin', 'Sally Ride', 'Yuri Gagarin', 'Elon Musk']"
      ]
     },
     "execution_count": 72,
     "metadata": {},
     "output_type": "execute_result"
    }
   ],
   "source": [
    "new_list"
   ]
  },
  {
   "cell_type": "code",
   "execution_count": 73,
   "id": "2b94ad2f",
   "metadata": {},
   "outputs": [
    {
     "data": {
      "text/plain": [
       "['neil armstrong', 'buzz aldrin', 'sally ride', 'yuri gagarin', 'elon musk']"
      ]
     },
     "execution_count": 73,
     "metadata": {},
     "output_type": "execute_result"
    }
   ],
   "source": [
    "names"
   ]
  },
  {
   "cell_type": "markdown",
   "id": "088963e0",
   "metadata": {},
   "source": [
    "# 7.Functions"
   ]
  },
  {
   "cell_type": "code",
   "execution_count": 74,
   "id": "7501eeb8",
   "metadata": {},
   "outputs": [],
   "source": [
    "#Defining a function in python - Recipe\n",
    "def launchpad_welcome():\n",
    "    print('hello')\n",
    "    print(1+2)\n",
    "    print(3+4)"
   ]
  },
  {
   "cell_type": "code",
   "execution_count": 75,
   "id": "4e8dcbc8",
   "metadata": {},
   "outputs": [
    {
     "name": "stdout",
     "output_type": "stream",
     "text": [
      "hello\n",
      "3\n",
      "7\n"
     ]
    }
   ],
   "source": [
    "#running aour function\n",
    "launchpad_welcome()"
   ]
  },
  {
   "cell_type": "code",
   "execution_count": 76,
   "id": "727db998",
   "metadata": {},
   "outputs": [
    {
     "name": "stdout",
     "output_type": "stream",
     "text": [
      "hello\n",
      "3\n",
      "7\n",
      "hello\n",
      "3\n",
      "7\n",
      "hello\n",
      "3\n",
      "7\n",
      "hello\n",
      "3\n",
      "7\n",
      "hello\n",
      "3\n",
      "7\n",
      "hello\n",
      "3\n",
      "7\n",
      "hello\n",
      "3\n",
      "7\n",
      "hello\n",
      "3\n",
      "7\n",
      "hello\n",
      "3\n",
      "7\n",
      "hello\n",
      "3\n",
      "7\n"
     ]
    }
   ],
   "source": [
    "for idx in range(10):\n",
    "    launchpad_welcome()"
   ]
  },
  {
   "cell_type": "code",
   "execution_count": 77,
   "id": "501e71c7",
   "metadata": {},
   "outputs": [],
   "source": [
    "names=['neil armstrong','buzz aldrin','sally ride','yuri gagarin','elon musk']\n"
   ]
  },
  {
   "cell_type": "code",
   "execution_count": 78,
   "id": "5fc2cf03",
   "metadata": {},
   "outputs": [],
   "source": [
    "#positional Arguments\n",
    "def custom_welcome(name):\n",
    "    print('Welcome {}'.format(name)) #string formating\n",
    "    "
   ]
  },
  {
   "cell_type": "code",
   "execution_count": 79,
   "id": "9935ab04",
   "metadata": {},
   "outputs": [
    {
     "name": "stdout",
     "output_type": "stream",
     "text": [
      "Welcome suma bimantoro andru\n"
     ]
    }
   ],
   "source": [
    "custom_welcome('suma bimantoro andru')"
   ]
  },
  {
   "cell_type": "code",
   "execution_count": 80,
   "id": "4680bac2",
   "metadata": {},
   "outputs": [
    {
     "name": "stdout",
     "output_type": "stream",
     "text": [
      "Welcome neil armstrong\n",
      "Welcome buzz aldrin\n",
      "Welcome sally ride\n",
      "Welcome yuri gagarin\n",
      "Welcome elon musk\n"
     ]
    }
   ],
   "source": [
    "for name in names:\n",
    "    custom_welcome(name)"
   ]
  },
  {
   "cell_type": "code",
   "execution_count": 81,
   "id": "6cee3056",
   "metadata": {},
   "outputs": [],
   "source": [
    "#Multiple positional Arguments -POSITION IS IMPORTANT\n",
    "def custom_welcome_to_ship(name,space_ship):\n",
    "    print('Welcome {} to the {}'.format(name, space_ship)) #string formating"
   ]
  },
  {
   "cell_type": "code",
   "execution_count": 82,
   "id": "51e10d8e",
   "metadata": {},
   "outputs": [
    {
     "name": "stdout",
     "output_type": "stream",
     "text": [
      "Welcome suma to the Galatic 1\n"
     ]
    }
   ],
   "source": [
    "custom_welcome_to_ship('suma','Galatic 1')"
   ]
  },
  {
   "cell_type": "code",
   "execution_count": 83,
   "id": "c4629ab8",
   "metadata": {},
   "outputs": [],
   "source": [
    "space_ships=['Galactic 1','Galactic 2','USS Voyager','Maximum Amazing Wow Space Ship','Apple Space Ship']"
   ]
  },
  {
   "cell_type": "code",
   "execution_count": 84,
   "id": "9eaf0f2f",
   "metadata": {},
   "outputs": [
    {
     "data": {
      "text/plain": [
       "'Galactic 1'"
      ]
     },
     "execution_count": 84,
     "metadata": {},
     "output_type": "execute_result"
    }
   ],
   "source": [
    "space_ships[0]"
   ]
  },
  {
   "cell_type": "code",
   "execution_count": 85,
   "id": "f09eb578",
   "metadata": {},
   "outputs": [
    {
     "name": "stdout",
     "output_type": "stream",
     "text": [
      "Welcome neil armstrong to the Galactic 1\n",
      "Welcome buzz aldrin to the Galactic 2\n",
      "Welcome sally ride to the USS Voyager\n",
      "Welcome yuri gagarin to the Maximum Amazing Wow Space Ship\n",
      "Welcome elon musk to the Apple Space Ship\n"
     ]
    }
   ],
   "source": [
    "#Used the enumarate function to get the psositional\n",
    "for idx,name in enumerate(names):\n",
    "    ship=space_ships[idx]\n",
    "    custom_welcome_to_ship(name, ship)"
   ]
  },
  {
   "cell_type": "code",
   "execution_count": 86,
   "id": "a97f66e4",
   "metadata": {},
   "outputs": [],
   "source": [
    "#this is using keyword arguments\n",
    "def space_suit(color='Blue'):\n",
    "    print('your space suit is {}'.format(color))"
   ]
  },
  {
   "cell_type": "code",
   "execution_count": 87,
   "id": "380b04ce",
   "metadata": {},
   "outputs": [
    {
     "name": "stdout",
     "output_type": "stream",
     "text": [
      "your space suit is Blue\n"
     ]
    }
   ],
   "source": [
    "space_suit()"
   ]
  },
  {
   "cell_type": "code",
   "execution_count": 88,
   "id": "446016f7",
   "metadata": {},
   "outputs": [
    {
     "name": "stdout",
     "output_type": "stream",
     "text": [
      "your space suit is red\n"
     ]
    }
   ],
   "source": [
    "space_suit(color='red')"
   ]
  },
  {
   "cell_type": "code",
   "execution_count": 89,
   "id": "06a97b8a",
   "metadata": {},
   "outputs": [],
   "source": [
    "#Multiple keyword arguments\n",
    "def space_suit_welcome(name,space_ship,color='Blue',allergies='none'):\n",
    "    print('welcome {} to the {}, your space suit is {}, you have {} allergies'.format(name,space_ship,color,allergies))"
   ]
  },
  {
   "cell_type": "code",
   "execution_count": 90,
   "id": "391d145f",
   "metadata": {},
   "outputs": [
    {
     "name": "stdout",
     "output_type": "stream",
     "text": [
      "welcome Elon Musk to the Apple iship, your space suit is red, you have none allergies\n"
     ]
    }
   ],
   "source": [
    "space_suit_welcome('Elon Musk','Apple iship',color='red')"
   ]
  },
  {
   "cell_type": "code",
   "execution_count": 91,
   "id": "3252d198",
   "metadata": {},
   "outputs": [
    {
     "name": "stdout",
     "output_type": "stream",
     "text": [
      "welcome Elon Musk to the Apple iship, your space suit is red, you have water allergies\n"
     ]
    }
   ],
   "source": [
    "space_suit_welcome('Elon Musk','Apple iship',color='red',allergies='water')"
   ]
  },
  {
   "cell_type": "code",
   "execution_count": 92,
   "id": "06f53e37",
   "metadata": {},
   "outputs": [],
   "source": [
    "#setup a return statement\n",
    "def space_suit_welcome_with_return(name,space_ship,color='Blue',allergies='none'):\n",
    "    return 'welcome {} to the {}, your space suit is {}, you have {} allergies'.format(name,space_ship,color,allergies)"
   ]
  },
  {
   "cell_type": "code",
   "execution_count": 93,
   "id": "71b9365f",
   "metadata": {},
   "outputs": [
    {
     "data": {
      "text/plain": [
       "'welcome elon musk to the apple iship, your space suit is Blue, you have none allergies'"
      ]
     },
     "execution_count": 93,
     "metadata": {},
     "output_type": "execute_result"
    }
   ],
   "source": [
    "space_suit_welcome_with_return('elon musk','apple iship')"
   ]
  },
  {
   "cell_type": "code",
   "execution_count": 94,
   "id": "559cfa8e",
   "metadata": {},
   "outputs": [],
   "source": [
    "#Example of storing the result of the function inside a variable\n",
    "welcome=space_suit_welcome_with_return('elon musk','apple iship')"
   ]
  },
  {
   "cell_type": "code",
   "execution_count": 95,
   "id": "ed2a6f31",
   "metadata": {},
   "outputs": [
    {
     "name": "stdout",
     "output_type": "stream",
     "text": [
      "welcome elon musk to the apple iship, your space suit is Blue, you have none allergies\n"
     ]
    }
   ],
   "source": [
    "print(welcome)"
   ]
  },
  {
   "cell_type": "code",
   "execution_count": 96,
   "id": "1a34d815",
   "metadata": {},
   "outputs": [],
   "source": [
    "# Lambda function anonymous function\n",
    "pi= lambda x: x*3.14"
   ]
  },
  {
   "cell_type": "code",
   "execution_count": 97,
   "id": "2b593584",
   "metadata": {},
   "outputs": [
    {
     "data": {
      "text/plain": [
       "6.28"
      ]
     },
     "execution_count": 97,
     "metadata": {},
     "output_type": "execute_result"
    }
   ],
   "source": [
    "pi(2)"
   ]
  },
  {
   "cell_type": "code",
   "execution_count": 98,
   "id": "c5fb9b06",
   "metadata": {},
   "outputs": [],
   "source": [
    "return_value=pi(2)"
   ]
  },
  {
   "cell_type": "code",
   "execution_count": 99,
   "id": "56331fc9",
   "metadata": {},
   "outputs": [
    {
     "name": "stdout",
     "output_type": "stream",
     "text": [
      "6.28\n"
     ]
    }
   ],
   "source": [
    "print(return_value)"
   ]
  },
  {
   "cell_type": "code",
   "execution_count": 100,
   "id": "eb35b34b",
   "metadata": {},
   "outputs": [
    {
     "data": {
      "text/plain": [
       "6.28"
      ]
     },
     "execution_count": 100,
     "metadata": {},
     "output_type": "execute_result"
    }
   ],
   "source": [
    "3.14*2"
   ]
  },
  {
   "cell_type": "code",
   "execution_count": 101,
   "id": "fcfbd7d6",
   "metadata": {},
   "outputs": [],
   "source": [
    "co = lambda x: x + 2"
   ]
  },
  {
   "cell_type": "code",
   "execution_count": 102,
   "id": "b0a3d843",
   "metadata": {},
   "outputs": [
    {
     "data": {
      "text/plain": [
       "4"
      ]
     },
     "execution_count": 102,
     "metadata": {},
     "output_type": "execute_result"
    }
   ],
   "source": [
    "co(2)"
   ]
  },
  {
   "cell_type": "markdown",
   "id": "4a51bde2",
   "metadata": {},
   "source": [
    "# Classes , Attributes , Methods, Class inheritance"
   ]
  },
  {
   "cell_type": "markdown",
   "id": "9b0cac00",
   "metadata": {},
   "source": [
    "# 8. Classes"
   ]
  },
  {
   "cell_type": "code",
   "execution_count": 113,
   "id": "c934abfd",
   "metadata": {},
   "outputs": [],
   "source": [
    "#clasees as boilerplates for objects\n",
    "class Person():\n",
    "    #the method that runs as soon as you create a class\n",
    "    def __init__(self, name, age, color):\n",
    "        #create some attributes for our person class\n",
    "        self.name =name\n",
    "        self.age = age\n",
    "        self.color = color\n",
    "        \n",
    "    #date of birth method\n",
    "    def year_of_birth(self):\n",
    "        return 2022-self.age\n",
    "    \n",
    "    # Project age\n",
    "    def project_age(self,years=5):\n",
    "        return self.age+years\n",
    "        "
   ]
  },
  {
   "cell_type": "code",
   "execution_count": 114,
   "id": "9193559a",
   "metadata": {},
   "outputs": [],
   "source": [
    "new_person = Person('Elon Musk',38,'blue')"
   ]
  },
  {
   "cell_type": "code",
   "execution_count": 115,
   "id": "eb26f9f1",
   "metadata": {},
   "outputs": [
    {
     "data": {
      "text/plain": [
       "'Elon Musk'"
      ]
     },
     "execution_count": 115,
     "metadata": {},
     "output_type": "execute_result"
    }
   ],
   "source": [
    "#Accessing a class attribute\n",
    "new_person.name"
   ]
  },
  {
   "cell_type": "code",
   "execution_count": 116,
   "id": "e335d29c",
   "metadata": {},
   "outputs": [
    {
     "data": {
      "text/plain": [
       "1984"
      ]
     },
     "execution_count": 116,
     "metadata": {},
     "output_type": "execute_result"
    }
   ],
   "source": [
    "# run a method\n",
    "new_person.year_of_birth()"
   ]
  },
  {
   "cell_type": "code",
   "execution_count": 117,
   "id": "40edf9a4",
   "metadata": {},
   "outputs": [
    {
     "data": {
      "text/plain": [
       "39"
      ]
     },
     "execution_count": 117,
     "metadata": {},
     "output_type": "execute_result"
    }
   ],
   "source": [
    "#run a method with keyword argument\n",
    "new_person.project_age(years=1)"
   ]
  },
  {
   "cell_type": "markdown",
   "id": "f2002957",
   "metadata": {},
   "source": [
    "# 9. inheritance \n",
    "- Parrent is the class passing down attributes and methods =PERSON\n",
    "- CHILD is the class inheriting the method and attributes =ASTRONAUT\n"
   ]
  },
  {
   "cell_type": "code",
   "execution_count": 124,
   "id": "5c085be8",
   "metadata": {},
   "outputs": [],
   "source": [
    "#create a child class\n",
    "class Astronaut(Person):\n",
    "    # Define initialization function\n",
    "    def __init__(self,name,age,color, mission_length_in_months):\n",
    "        #This is what gives us inheritance - SUPER METHOD\n",
    "        super().__init__(name,age,color)\n",
    "        self.mission_length_months=mission_length_in_months\n",
    "    # Method for calculating age on return\n",
    "    def age_on_return(self ):\n",
    "        return self.project_age(years=int(self.mission_length_months/12))"
   ]
  },
  {
   "cell_type": "code",
   "execution_count": 125,
   "id": "c5ef4037",
   "metadata": {},
   "outputs": [],
   "source": [
    "new_astronaut= Astronaut ('suma',33,'red',48)"
   ]
  },
  {
   "cell_type": "code",
   "execution_count": 126,
   "id": "4686278b",
   "metadata": {},
   "outputs": [
    {
     "data": {
      "text/plain": [
       "'red'"
      ]
     },
     "execution_count": 126,
     "metadata": {},
     "output_type": "execute_result"
    }
   ],
   "source": [
    "#Access parent like attribute\n",
    "new_astronaut.color"
   ]
  },
  {
   "cell_type": "code",
   "execution_count": 129,
   "id": "3cdf550f",
   "metadata": {},
   "outputs": [
    {
     "data": {
      "text/plain": [
       "1989"
      ]
     },
     "execution_count": 129,
     "metadata": {},
     "output_type": "execute_result"
    }
   ],
   "source": [
    "#Access the methods\n",
    "new_astronaut.year_of_birth()"
   ]
  },
  {
   "cell_type": "code",
   "execution_count": 130,
   "id": "35733004",
   "metadata": {},
   "outputs": [
    {
     "data": {
      "text/plain": [
       "37"
      ]
     },
     "execution_count": 130,
     "metadata": {},
     "output_type": "execute_result"
    }
   ],
   "source": [
    "#run a method\n",
    "new_astronaut.age_on_return()"
   ]
  },
  {
   "cell_type": "code",
   "execution_count": null,
   "id": "6c2f648d",
   "metadata": {},
   "outputs": [],
   "source": []
  },
  {
   "cell_type": "code",
   "execution_count": null,
   "id": "c6758616",
   "metadata": {},
   "outputs": [],
   "source": []
  },
  {
   "cell_type": "code",
   "execution_count": null,
   "id": "d628ab4c",
   "metadata": {},
   "outputs": [],
   "source": []
  },
  {
   "cell_type": "code",
   "execution_count": null,
   "id": "db9456c7",
   "metadata": {},
   "outputs": [],
   "source": []
  },
  {
   "cell_type": "code",
   "execution_count": null,
   "id": "49cb8196",
   "metadata": {},
   "outputs": [],
   "source": []
  },
  {
   "cell_type": "code",
   "execution_count": null,
   "id": "a29beea4",
   "metadata": {},
   "outputs": [],
   "source": []
  }
 ],
 "metadata": {
  "kernelspec": {
   "display_name": "Python 3 (ipykernel)",
   "language": "python",
   "name": "python3"
  },
  "language_info": {
   "codemirror_mode": {
    "name": "ipython",
    "version": 3
   },
   "file_extension": ".py",
   "mimetype": "text/x-python",
   "name": "python",
   "nbconvert_exporter": "python",
   "pygments_lexer": "ipython3",
   "version": "3.9.12"
  }
 },
 "nbformat": 4,
 "nbformat_minor": 5
}
