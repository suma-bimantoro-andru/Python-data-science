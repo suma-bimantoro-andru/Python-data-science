{
 "cells": [
  {
   "cell_type": "markdown",
   "id": "e9688bd7",
   "metadata": {},
   "source": [
    "# 1.Variable"
   ]
  },
  {
   "cell_type": "code",
   "execution_count": 1,
   "id": "9936c67e",
   "metadata": {},
   "outputs": [],
   "source": [
    "nama='suma'"
   ]
  },
  {
   "cell_type": "code",
   "execution_count": 2,
   "id": "07ea6007",
   "metadata": {},
   "outputs": [
    {
     "name": "stdout",
     "output_type": "stream",
     "text": [
      "suma\n"
     ]
    }
   ],
   "source": [
    "print(nama)"
   ]
  },
  {
   "cell_type": "markdown",
   "id": "b0865718",
   "metadata": {},
   "source": [
    "# 2. Data Types"
   ]
  },
  {
   "cell_type": "code",
   "execution_count": 3,
   "id": "2eebef8e",
   "metadata": {},
   "outputs": [],
   "source": [
    "#create int\n",
    "number = 123"
   ]
  },
  {
   "cell_type": "code",
   "execution_count": 4,
   "id": "5dfe8e92",
   "metadata": {},
   "outputs": [
    {
     "data": {
      "text/plain": [
       "int"
      ]
     },
     "execution_count": 4,
     "metadata": {},
     "output_type": "execute_result"
    }
   ],
   "source": [
    "type(number)"
   ]
  },
  {
   "cell_type": "code",
   "execution_count": 5,
   "id": "18917bb2",
   "metadata": {},
   "outputs": [],
   "source": [
    "#create string\n",
    "number_string='satu'"
   ]
  },
  {
   "cell_type": "code",
   "execution_count": 6,
   "id": "9f53f3c2",
   "metadata": {},
   "outputs": [
    {
     "data": {
      "text/plain": [
       "str"
      ]
     },
     "execution_count": 6,
     "metadata": {},
     "output_type": "execute_result"
    }
   ],
   "source": [
    "type(number_string)"
   ]
  },
  {
   "cell_type": "code",
   "execution_count": 7,
   "id": "4e5e2a26",
   "metadata": {},
   "outputs": [],
   "source": [
    "#create float\n",
    "number_float=123.2"
   ]
  },
  {
   "cell_type": "code",
   "execution_count": 8,
   "id": "b3fb8853",
   "metadata": {},
   "outputs": [
    {
     "data": {
      "text/plain": [
       "float"
      ]
     },
     "execution_count": 8,
     "metadata": {},
     "output_type": "execute_result"
    }
   ],
   "source": [
    "type(number_float)"
   ]
  },
  {
   "cell_type": "code",
   "execution_count": 9,
   "id": "0e5e507f",
   "metadata": {},
   "outputs": [],
   "source": [
    "#create bool\n",
    "bool_variable=True"
   ]
  },
  {
   "cell_type": "code",
   "execution_count": 10,
   "id": "8ae5269e",
   "metadata": {},
   "outputs": [
    {
     "data": {
      "text/plain": [
       "bool"
      ]
     },
     "execution_count": 10,
     "metadata": {},
     "output_type": "execute_result"
    }
   ],
   "source": [
    "type(bool_variable)"
   ]
  },
  {
   "cell_type": "code",
   "execution_count": 11,
   "id": "1d0094c6",
   "metadata": {},
   "outputs": [],
   "source": [
    "bool_variable_f=bool(0)"
   ]
  },
  {
   "cell_type": "code",
   "execution_count": 12,
   "id": "778784bc",
   "metadata": {},
   "outputs": [
    {
     "data": {
      "text/plain": [
       "False"
      ]
     },
     "execution_count": 12,
     "metadata": {},
     "output_type": "execute_result"
    }
   ],
   "source": [
    "bool_variable_f"
   ]
  },
  {
   "cell_type": "code",
   "execution_count": 13,
   "id": "d34c9a3c",
   "metadata": {},
   "outputs": [],
   "source": [
    "#creating a list variable\n",
    "list_variable=[1,2,3,4,4.5]"
   ]
  },
  {
   "cell_type": "code",
   "execution_count": 14,
   "id": "aa6c9bb6",
   "metadata": {},
   "outputs": [
    {
     "data": {
      "text/plain": [
       "list"
      ]
     },
     "execution_count": 14,
     "metadata": {},
     "output_type": "execute_result"
    }
   ],
   "source": [
    "type(list_variable)"
   ]
  },
  {
   "cell_type": "code",
   "execution_count": 15,
   "id": "edec406e",
   "metadata": {},
   "outputs": [],
   "source": [
    "list_variable[1]=234"
   ]
  },
  {
   "cell_type": "code",
   "execution_count": 16,
   "id": "912e04c3",
   "metadata": {},
   "outputs": [
    {
     "data": {
      "text/plain": [
       "[1, 234, 3, 4, 4.5]"
      ]
     },
     "execution_count": 16,
     "metadata": {},
     "output_type": "execute_result"
    }
   ],
   "source": [
    "list_variable"
   ]
  },
  {
   "cell_type": "code",
   "execution_count": 17,
   "id": "18abe55d",
   "metadata": {},
   "outputs": [
    {
     "data": {
      "text/plain": [
       "tuple"
      ]
     },
     "execution_count": 17,
     "metadata": {},
     "output_type": "execute_result"
    }
   ],
   "source": [
    "#create a tuple variable, IMMUTABLE=you can't change the value\n",
    "tuple_variable=(1,2,3,4,4.5)\n",
    "type(tuple_variable)"
   ]
  },
  {
   "cell_type": "code",
   "execution_count": 18,
   "id": "0b223f1c",
   "metadata": {},
   "outputs": [
    {
     "data": {
      "text/plain": [
       "1"
      ]
     },
     "execution_count": 18,
     "metadata": {},
     "output_type": "execute_result"
    }
   ],
   "source": [
    "tuple_variable[0]\n"
   ]
  },
  {
   "cell_type": "code",
   "execution_count": 19,
   "id": "002f41fd",
   "metadata": {},
   "outputs": [
    {
     "data": {
      "text/plain": [
       "set"
      ]
     },
     "execution_count": 19,
     "metadata": {},
     "output_type": "execute_result"
    }
   ],
   "source": [
    "# this is creating a set variable, IMMUTABLE=you can't change the value\n",
    "set_variable={1,2,3,4,4.5}\n",
    "type(set_variable)"
   ]
  },
  {
   "cell_type": "code",
   "execution_count": 20,
   "id": "b1e360c8",
   "metadata": {},
   "outputs": [
    {
     "data": {
      "text/plain": [
       "[1, 3, 4, 4.5, 234]"
      ]
     },
     "execution_count": 20,
     "metadata": {},
     "output_type": "execute_result"
    }
   ],
   "source": [
    "#type casting list to set back to list to get rid of duplicate\n",
    "list(set(list_variable))"
   ]
  },
  {
   "cell_type": "code",
   "execution_count": 21,
   "id": "656b60e0",
   "metadata": {},
   "outputs": [
    {
     "data": {
      "text/plain": [
       "list"
      ]
     },
     "execution_count": 21,
     "metadata": {},
     "output_type": "execute_result"
    }
   ],
   "source": [
    "type(list(set(list_variable)))"
   ]
  },
  {
   "cell_type": "code",
   "execution_count": 22,
   "id": "ae6b8478",
   "metadata": {},
   "outputs": [],
   "source": [
    "#defining a dictionary variable\n",
    "person_variable={'name':\"suma\", 'favorite_color':'red', 'favorite_number':20}"
   ]
  },
  {
   "cell_type": "code",
   "execution_count": 23,
   "id": "e6b39315",
   "metadata": {},
   "outputs": [
    {
     "data": {
      "text/plain": [
       "dict"
      ]
     },
     "execution_count": 23,
     "metadata": {},
     "output_type": "execute_result"
    }
   ],
   "source": [
    "type(person_variable)"
   ]
  },
  {
   "cell_type": "code",
   "execution_count": 24,
   "id": "379fc0cf",
   "metadata": {},
   "outputs": [
    {
     "name": "stdout",
     "output_type": "stream",
     "text": [
      "{'name': 'suma', 'favorite_color': 'red', 'favorite_number': 20}\n"
     ]
    }
   ],
   "source": [
    "print(person_variable)"
   ]
  },
  {
   "cell_type": "code",
   "execution_count": 25,
   "id": "e6f6c13d",
   "metadata": {},
   "outputs": [
    {
     "data": {
      "text/plain": [
       "'suma'"
      ]
     },
     "execution_count": 25,
     "metadata": {},
     "output_type": "execute_result"
    }
   ],
   "source": [
    "person_variable['name']"
   ]
  },
  {
   "cell_type": "code",
   "execution_count": 26,
   "id": "17a4f145",
   "metadata": {},
   "outputs": [],
   "source": [
    "fit_models={}"
   ]
  },
  {
   "cell_type": "code",
   "execution_count": 27,
   "id": "e098e61b",
   "metadata": {},
   "outputs": [
    {
     "data": {
      "text/plain": [
       "(1, 234, 3, 4, 4.5)"
      ]
     },
     "execution_count": 27,
     "metadata": {},
     "output_type": "execute_result"
    }
   ],
   "source": [
    "tuple(list_variable)"
   ]
  },
  {
   "cell_type": "markdown",
   "id": "a0870dac",
   "metadata": {},
   "source": [
    "# 3.List"
   ]
  },
  {
   "cell_type": "code",
   "execution_count": 28,
   "id": "47a8f1bb",
   "metadata": {},
   "outputs": [],
   "source": [
    "#create\n",
    "names=['neil armstrong','buzz aldrin','sally ride','yuri gagarin','elon musk']"
   ]
  },
  {
   "cell_type": "code",
   "execution_count": 29,
   "id": "c1b1c072",
   "metadata": {},
   "outputs": [
    {
     "data": {
      "text/plain": [
       "['neil armstrong', 'buzz aldrin', 'sally ride', 'yuri gagarin', 'elon musk']"
      ]
     },
     "execution_count": 29,
     "metadata": {},
     "output_type": "execute_result"
    }
   ],
   "source": [
    "#Read\n",
    "names"
   ]
  },
  {
   "cell_type": "code",
   "execution_count": 30,
   "id": "6eece34f",
   "metadata": {},
   "outputs": [
    {
     "data": {
      "text/plain": [
       "'neil armstrong'"
      ]
     },
     "execution_count": 30,
     "metadata": {},
     "output_type": "execute_result"
    }
   ],
   "source": [
    "#reading using indexing\n",
    "names[0]"
   ]
  },
  {
   "cell_type": "code",
   "execution_count": 31,
   "id": "e1e54203",
   "metadata": {},
   "outputs": [
    {
     "data": {
      "text/plain": [
       "'elon musk'"
      ]
     },
     "execution_count": 31,
     "metadata": {},
     "output_type": "execute_result"
    }
   ],
   "source": [
    "names[-1]"
   ]
  },
  {
   "cell_type": "code",
   "execution_count": 32,
   "id": "172f11e9",
   "metadata": {},
   "outputs": [
    {
     "data": {
      "text/plain": [
       "5"
      ]
     },
     "execution_count": 32,
     "metadata": {},
     "output_type": "execute_result"
    }
   ],
   "source": [
    "len(names)"
   ]
  },
  {
   "cell_type": "code",
   "execution_count": 33,
   "id": "c79f3136",
   "metadata": {},
   "outputs": [],
   "source": [
    "#Update"
   ]
  },
  {
   "cell_type": "code",
   "execution_count": 34,
   "id": "5a0a32c5",
   "metadata": {},
   "outputs": [
    {
     "data": {
      "text/plain": [
       "['neil armstrong', 'buzz aldrin', 'sally ride', 'yuri gagarin', 'suma']"
      ]
     },
     "execution_count": 34,
     "metadata": {},
     "output_type": "execute_result"
    }
   ],
   "source": [
    "names[-1]='suma'\n",
    "names"
   ]
  },
  {
   "cell_type": "code",
   "execution_count": 35,
   "id": "23f614b3",
   "metadata": {},
   "outputs": [],
   "source": [
    "names.append('elon musk')"
   ]
  },
  {
   "cell_type": "code",
   "execution_count": 36,
   "id": "c372e8a0",
   "metadata": {},
   "outputs": [
    {
     "data": {
      "text/plain": [
       "['neil armstrong',\n",
       " 'buzz aldrin',\n",
       " 'sally ride',\n",
       " 'yuri gagarin',\n",
       " 'suma',\n",
       " 'elon musk']"
      ]
     },
     "execution_count": 36,
     "metadata": {},
     "output_type": "execute_result"
    }
   ],
   "source": [
    "names"
   ]
  },
  {
   "cell_type": "code",
   "execution_count": 37,
   "id": "239a0739",
   "metadata": {},
   "outputs": [],
   "source": [
    "names.insert??"
   ]
  },
  {
   "cell_type": "code",
   "execution_count": 38,
   "id": "db94343f",
   "metadata": {},
   "outputs": [],
   "source": [
    "names.insert(0,'richard')"
   ]
  },
  {
   "cell_type": "code",
   "execution_count": 39,
   "id": "4046f1d5",
   "metadata": {},
   "outputs": [
    {
     "data": {
      "text/plain": [
       "['richard',\n",
       " 'neil armstrong',\n",
       " 'buzz aldrin',\n",
       " 'sally ride',\n",
       " 'yuri gagarin',\n",
       " 'suma',\n",
       " 'elon musk']"
      ]
     },
     "execution_count": 39,
     "metadata": {},
     "output_type": "execute_result"
    }
   ],
   "source": [
    "names"
   ]
  },
  {
   "cell_type": "code",
   "execution_count": 40,
   "id": "79e94a5a",
   "metadata": {},
   "outputs": [],
   "source": [
    "#Delete"
   ]
  },
  {
   "cell_type": "code",
   "execution_count": 41,
   "id": "c02b676e",
   "metadata": {},
   "outputs": [],
   "source": [
    "del names[-2]"
   ]
  },
  {
   "cell_type": "code",
   "execution_count": 42,
   "id": "823801a0",
   "metadata": {},
   "outputs": [
    {
     "data": {
      "text/plain": [
       "['richard',\n",
       " 'neil armstrong',\n",
       " 'buzz aldrin',\n",
       " 'sally ride',\n",
       " 'yuri gagarin',\n",
       " 'elon musk']"
      ]
     },
     "execution_count": 42,
     "metadata": {},
     "output_type": "execute_result"
    }
   ],
   "source": [
    "names"
   ]
  },
  {
   "cell_type": "markdown",
   "id": "453aa138",
   "metadata": {},
   "source": [
    "# 4.Dictionaries"
   ]
  },
  {
   "cell_type": "code",
   "execution_count": 43,
   "id": "ddf229c3",
   "metadata": {},
   "outputs": [],
   "source": [
    "#create\n",
    "astronaut={\n",
    "    'name':'elon musk',\n",
    "    'suit_size':'large',\n",
    "    'allergies':'peanuts'\n",
    "}"
   ]
  },
  {
   "cell_type": "code",
   "execution_count": 44,
   "id": "ad0ffc78",
   "metadata": {},
   "outputs": [],
   "source": [
    "#Read"
   ]
  },
  {
   "cell_type": "code",
   "execution_count": 45,
   "id": "39b611e1",
   "metadata": {},
   "outputs": [
    {
     "data": {
      "text/plain": [
       "{'name': 'elon musk', 'suit_size': 'large', 'allergies': 'peanuts'}"
      ]
     },
     "execution_count": 45,
     "metadata": {},
     "output_type": "execute_result"
    }
   ],
   "source": [
    "astronaut"
   ]
  },
  {
   "cell_type": "code",
   "execution_count": 46,
   "id": "fa755a79",
   "metadata": {},
   "outputs": [
    {
     "data": {
      "text/plain": [
       "'large'"
      ]
     },
     "execution_count": 46,
     "metadata": {},
     "output_type": "execute_result"
    }
   ],
   "source": [
    "astronaut['suit_size']"
   ]
  },
  {
   "cell_type": "code",
   "execution_count": 47,
   "id": "cbd0d857",
   "metadata": {},
   "outputs": [
    {
     "data": {
      "text/plain": [
       "dict_keys(['name', 'suit_size', 'allergies'])"
      ]
     },
     "execution_count": 47,
     "metadata": {},
     "output_type": "execute_result"
    }
   ],
   "source": [
    "astronaut.keys()"
   ]
  },
  {
   "cell_type": "code",
   "execution_count": 48,
   "id": "d88fea42",
   "metadata": {},
   "outputs": [
    {
     "data": {
      "text/plain": [
       "dict_values(['elon musk', 'large', 'peanuts'])"
      ]
     },
     "execution_count": 48,
     "metadata": {},
     "output_type": "execute_result"
    }
   ],
   "source": [
    "astronaut.values()"
   ]
  },
  {
   "cell_type": "code",
   "execution_count": 49,
   "id": "e7232b64",
   "metadata": {},
   "outputs": [],
   "source": [
    "#Update"
   ]
  },
  {
   "cell_type": "code",
   "execution_count": 50,
   "id": "bd77b5ac",
   "metadata": {},
   "outputs": [],
   "source": [
    "astronaut['allergies']='mango'"
   ]
  },
  {
   "cell_type": "code",
   "execution_count": 51,
   "id": "0ac06d9e",
   "metadata": {},
   "outputs": [
    {
     "data": {
      "text/plain": [
       "{'name': 'elon musk', 'suit_size': 'large', 'allergies': 'mango'}"
      ]
     },
     "execution_count": 51,
     "metadata": {},
     "output_type": "execute_result"
    }
   ],
   "source": [
    "astronaut"
   ]
  },
  {
   "cell_type": "code",
   "execution_count": 52,
   "id": "40b309da",
   "metadata": {},
   "outputs": [],
   "source": [
    "astronaut['space_ship']='Galactic 1'"
   ]
  },
  {
   "cell_type": "code",
   "execution_count": 53,
   "id": "5fc35d44",
   "metadata": {},
   "outputs": [
    {
     "data": {
      "text/plain": [
       "{'name': 'elon musk',\n",
       " 'suit_size': 'large',\n",
       " 'allergies': 'mango',\n",
       " 'space_ship': 'Galactic 1'}"
      ]
     },
     "execution_count": 53,
     "metadata": {},
     "output_type": "execute_result"
    }
   ],
   "source": [
    "astronaut"
   ]
  },
  {
   "cell_type": "code",
   "execution_count": 54,
   "id": "da68ede8",
   "metadata": {},
   "outputs": [],
   "source": [
    "#Delete"
   ]
  },
  {
   "cell_type": "code",
   "execution_count": 55,
   "id": "46a80fec",
   "metadata": {},
   "outputs": [],
   "source": [
    "del astronaut['space_ship']"
   ]
  },
  {
   "cell_type": "code",
   "execution_count": 56,
   "id": "157c3da4",
   "metadata": {},
   "outputs": [
    {
     "data": {
      "text/plain": [
       "{'name': 'elon musk', 'suit_size': 'large', 'allergies': 'mango'}"
      ]
     },
     "execution_count": 56,
     "metadata": {},
     "output_type": "execute_result"
    }
   ],
   "source": [
    "astronaut"
   ]
  },
  {
   "cell_type": "markdown",
   "id": "1facbc1c",
   "metadata": {},
   "source": [
    "# 5. Conditions and Logic"
   ]
  },
  {
   "cell_type": "code",
   "execution_count": 57,
   "id": "3360acc3",
   "metadata": {},
   "outputs": [],
   "source": [
    "#Appling Logic using the IF statement\n",
    "name='Suma'\n",
    "if name == 'Neil Armstrong':\n",
    "    print('Sup Neil')"
   ]
  },
  {
   "cell_type": "code",
   "execution_count": 58,
   "id": "6c852b66",
   "metadata": {},
   "outputs": [
    {
     "name": "stdout",
     "output_type": "stream",
     "text": [
      "number is greater than equal to 5\n"
     ]
    }
   ],
   "source": [
    "test_number = 10\n",
    "if test_number >=5:\n",
    "    print('number is greater than equal to 5')"
   ]
  },
  {
   "cell_type": "code",
   "execution_count": 59,
   "id": "a92df59e",
   "metadata": {},
   "outputs": [
    {
     "name": "stdout",
     "output_type": "stream",
     "text": [
      "False\n"
     ]
    }
   ],
   "source": [
    "probabilty = 0.04\n",
    "#Probabilty is greater than 0.5\n",
    "if probabilty >=0.5:\n",
    "    print(True)\n",
    "    \n",
    "#Print out a statment is probability is below\n",
    "elif probabilty < 0:\n",
    "    print('check you probabilties')\n",
    "\n",
    "    \n",
    "#Anything else\n",
    "else:\n",
    "    print(False)"
   ]
  },
  {
   "cell_type": "code",
   "execution_count": 60,
   "id": "9673b9d6",
   "metadata": {},
   "outputs": [
    {
     "name": "stdout",
     "output_type": "stream",
     "text": [
      "Elon's here\n"
     ]
    }
   ],
   "source": [
    "#vreate a list of names\n",
    "names=['neil armstrong','buzz aldrin','sally ride','yuri gagarin','elon musk']\n",
    "if 'elon musk' in names:\n",
    "    #using python escapes\n",
    "    print('Elon\\'s here')"
   ]
  },
  {
   "cell_type": "markdown",
   "id": "518a30e9",
   "metadata": {},
   "source": [
    "# 6.Loops"
   ]
  },
  {
   "cell_type": "code",
   "execution_count": 61,
   "id": "5ddd19e5",
   "metadata": {},
   "outputs": [
    {
     "name": "stdout",
     "output_type": "stream",
     "text": [
      "neil armstrong\n",
      "Please to have you here !\n",
      "\n",
      "buzz aldrin\n",
      "sup buzz\n",
      "\n",
      "sally ride\n",
      "Please to have you here !\n",
      "\n",
      "yuri gagarin\n",
      "Hey yuri\n"
     ]
    }
   ],
   "source": [
    "#thi is an example of a for Loop\n",
    "for name in names:\n",
    "    print(name)\n",
    "    \n",
    "    #Condition statement block\n",
    "    if name == 'buzz aldrin':\n",
    "        print('sup buzz\\n')\n",
    "        #Next value in the loop\n",
    "        continue\n",
    "    elif name =='yuri gagarin':\n",
    "        print('Hey yuri')\n",
    "        #Break statement stops the loop\n",
    "        break\n",
    "    #catch all\n",
    "    else:\n",
    "        #Placeholder to do nothing\n",
    "        pass\n",
    "    # outside of if statement block\n",
    "    print('Please to have you here !\\n')"
   ]
  },
  {
   "cell_type": "code",
   "execution_count": 62,
   "id": "002dfedb",
   "metadata": {},
   "outputs": [
    {
     "name": "stdout",
     "output_type": "stream",
     "text": [
      "1\n",
      "2\n",
      "3\n",
      "4\n",
      "5\n",
      "6\n",
      "7\n",
      "8\n",
      "9\n",
      "10\n"
     ]
    }
   ],
   "source": [
    "#loop x number of times\n",
    "for idx in range(1,11):\n",
    "    print(idx)"
   ]
  },
  {
   "cell_type": "code",
   "execution_count": 63,
   "id": "3b48eaab",
   "metadata": {},
   "outputs": [
    {
     "name": "stdout",
     "output_type": "stream",
     "text": [
      "Shuttle 1 launched\n",
      "Shuttle 2 launched\n",
      "Shuttle 3 launched\n",
      "Shuttle 4 launched\n",
      "Shuttle 5 launched\n",
      "all shuttles launched\n"
     ]
    }
   ],
   "source": [
    "#create launch variables\n",
    "launched_shuttles=0\n",
    "total_shuttles=5\n",
    "\n",
    "#Create while loop\n",
    "while True:\n",
    "    #string formatting\n",
    "    print('Shuttle {} launched'.format(launched_shuttles+1))\n",
    "    launched_shuttles += 1 #launched_shuttles + 1\n",
    "    \n",
    "    if launched_shuttles == total_shuttles:\n",
    "        print('all shuttles launched')\n",
    "        break"
   ]
  },
  {
   "cell_type": "code",
   "execution_count": 64,
   "id": "65772417",
   "metadata": {},
   "outputs": [],
   "source": [
    "astronaut={\n",
    "    \"name\":\"suma\",\n",
    "    \"suit_size\":\"medium\",\n",
    "    \"allergies\":\"peanuts\"\n",
    "}"
   ]
  },
  {
   "cell_type": "code",
   "execution_count": 65,
   "id": "88b20e45",
   "metadata": {},
   "outputs": [
    {
     "data": {
      "text/plain": [
       "dict_keys(['name', 'suit_size', 'allergies'])"
      ]
     },
     "execution_count": 65,
     "metadata": {},
     "output_type": "execute_result"
    }
   ],
   "source": [
    "#accessing dictionary keys\n",
    "astronaut.keys()"
   ]
  },
  {
   "cell_type": "code",
   "execution_count": 66,
   "id": "fe1b474a",
   "metadata": {},
   "outputs": [
    {
     "name": "stdout",
     "output_type": "stream",
     "text": [
      "name\n",
      "suit_size\n",
      "allergies\n"
     ]
    }
   ],
   "source": [
    "#Loop through keys in a dictiobary\n",
    "for key in astronaut.keys():\n",
    "    print(key)"
   ]
  },
  {
   "cell_type": "code",
   "execution_count": 67,
   "id": "6d884718",
   "metadata": {},
   "outputs": [
    {
     "data": {
      "text/plain": [
       "dict_values(['suma', 'medium', 'peanuts'])"
      ]
     },
     "execution_count": 67,
     "metadata": {},
     "output_type": "execute_result"
    }
   ],
   "source": [
    "#Accessing dictionary values\n",
    "astronaut.values()"
   ]
  },
  {
   "cell_type": "code",
   "execution_count": 68,
   "id": "a001337b",
   "metadata": {},
   "outputs": [
    {
     "name": "stdout",
     "output_type": "stream",
     "text": [
      "suma\n",
      "medium\n",
      "peanuts\n"
     ]
    }
   ],
   "source": [
    "#Loop through values in a dictionary\n",
    "for value in astronaut.values():\n",
    "    print(value)"
   ]
  },
  {
   "cell_type": "code",
   "execution_count": 69,
   "id": "6939bcc4",
   "metadata": {},
   "outputs": [
    {
     "data": {
      "text/plain": [
       "dict_items([('name', 'suma'), ('suit_size', 'medium'), ('allergies', 'peanuts')])"
      ]
     },
     "execution_count": 69,
     "metadata": {},
     "output_type": "execute_result"
    }
   ],
   "source": [
    "astronaut.items()"
   ]
  },
  {
   "cell_type": "code",
   "execution_count": 70,
   "id": "312c6116",
   "metadata": {},
   "outputs": [
    {
     "name": "stdout",
     "output_type": "stream",
     "text": [
      "name\n",
      "suma \n",
      "\n",
      "suit_size\n",
      "medium \n",
      "\n",
      "allergies\n",
      "peanuts \n",
      "\n"
     ]
    }
   ],
   "source": [
    "#loop through keys and values at the same time\n",
    "for key, value in astronaut.items():\n",
    "    print(key)\n",
    "    print(value ,'\\n')"
   ]
  },
  {
   "cell_type": "code",
   "execution_count": 71,
   "id": "ee9a5afb",
   "metadata": {},
   "outputs": [],
   "source": [
    "#list comprehensions\n",
    "new_list=[name.title() for name in names]"
   ]
  },
  {
   "cell_type": "code",
   "execution_count": 72,
   "id": "f52e8ee7",
   "metadata": {},
   "outputs": [
    {
     "data": {
      "text/plain": [
       "['Neil Armstrong', 'Buzz Aldrin', 'Sally Ride', 'Yuri Gagarin', 'Elon Musk']"
      ]
     },
     "execution_count": 72,
     "metadata": {},
     "output_type": "execute_result"
    }
   ],
   "source": [
    "new_list"
   ]
  },
  {
   "cell_type": "code",
   "execution_count": 73,
   "id": "2b94ad2f",
   "metadata": {},
   "outputs": [
    {
     "data": {
      "text/plain": [
       "['neil armstrong', 'buzz aldrin', 'sally ride', 'yuri gagarin', 'elon musk']"
      ]
     },
     "execution_count": 73,
     "metadata": {},
     "output_type": "execute_result"
    }
   ],
   "source": [
    "names"
   ]
  },
  {
   "cell_type": "markdown",
   "id": "088963e0",
   "metadata": {},
   "source": [
    "# 7.Functions"
   ]
  },
  {
   "cell_type": "code",
   "execution_count": 74,
   "id": "7501eeb8",
   "metadata": {},
   "outputs": [],
   "source": [
    "#Defining a function in python - Recipe\n",
    "def launchpad_welcome():\n",
    "    print('hello')\n",
    "    print(1+2)\n",
    "    print(3+4)"
   ]
  },
  {
   "cell_type": "code",
   "execution_count": 75,
   "id": "4e8dcbc8",
   "metadata": {},
   "outputs": [
    {
     "name": "stdout",
     "output_type": "stream",
     "text": [
      "hello\n",
      "3\n",
      "7\n"
     ]
    }
   ],
   "source": [
    "#running aour function\n",
    "launchpad_welcome()"
   ]
  },
  {
   "cell_type": "code",
   "execution_count": 76,
   "id": "727db998",
   "metadata": {},
   "outputs": [
    {
     "name": "stdout",
     "output_type": "stream",
     "text": [
      "hello\n",
      "3\n",
      "7\n",
      "hello\n",
      "3\n",
      "7\n",
      "hello\n",
      "3\n",
      "7\n",
      "hello\n",
      "3\n",
      "7\n",
      "hello\n",
      "3\n",
      "7\n",
      "hello\n",
      "3\n",
      "7\n",
      "hello\n",
      "3\n",
      "7\n",
      "hello\n",
      "3\n",
      "7\n",
      "hello\n",
      "3\n",
      "7\n",
      "hello\n",
      "3\n",
      "7\n"
     ]
    }
   ],
   "source": [
    "for idx in range(10):\n",
    "    launchpad_welcome()"
   ]
  },
  {
   "cell_type": "code",
   "execution_count": 77,
   "id": "501e71c7",
   "metadata": {},
   "outputs": [],
   "source": [
    "names=['neil armstrong','buzz aldrin','sally ride','yuri gagarin','elon musk']\n"
   ]
  },
  {
   "cell_type": "code",
   "execution_count": 78,
   "id": "5fc2cf03",
   "metadata": {},
   "outputs": [],
   "source": [
    "#positional Arguments\n",
    "def custom_welcome(name):\n",
    "    print('Welcome {}'.format(name)) #string formating\n",
    "    "
   ]
  },
  {
   "cell_type": "code",
   "execution_count": 79,
   "id": "9935ab04",
   "metadata": {},
   "outputs": [
    {
     "name": "stdout",
     "output_type": "stream",
     "text": [
      "Welcome suma bimantoro andru\n"
     ]
    }
   ],
   "source": [
    "custom_welcome('suma bimantoro andru')"
   ]
  },
  {
   "cell_type": "code",
   "execution_count": 80,
   "id": "4680bac2",
   "metadata": {},
   "outputs": [
    {
     "name": "stdout",
     "output_type": "stream",
     "text": [
      "Welcome neil armstrong\n",
      "Welcome buzz aldrin\n",
      "Welcome sally ride\n",
      "Welcome yuri gagarin\n",
      "Welcome elon musk\n"
     ]
    }
   ],
   "source": [
    "for name in names:\n",
    "    custom_welcome(name)"
   ]
  },
  {
   "cell_type": "code",
   "execution_count": 81,
   "id": "6cee3056",
   "metadata": {},
   "outputs": [],
   "source": [
    "#Multiple positional Arguments -POSITION IS IMPORTANT\n",
    "def custom_welcome_to_ship(name,space_ship):\n",
    "    print('Welcome {} to the {}'.format(name, space_ship)) #string formating"
   ]
  },
  {
   "cell_type": "code",
   "execution_count": 82,
   "id": "51e10d8e",
   "metadata": {},
   "outputs": [
    {
     "name": "stdout",
     "output_type": "stream",
     "text": [
      "Welcome suma to the Galatic 1\n"
     ]
    }
   ],
   "source": [
    "custom_welcome_to_ship('suma','Galatic 1')"
   ]
  },
  {
   "cell_type": "code",
   "execution_count": 83,
   "id": "c4629ab8",
   "metadata": {},
   "outputs": [],
   "source": [
    "space_ships=['Galactic 1','Galactic 2','USS Voyager','Maximum Amazing Wow Space Ship','Apple Space Ship']"
   ]
  },
  {
   "cell_type": "code",
   "execution_count": 84,
   "id": "9eaf0f2f",
   "metadata": {},
   "outputs": [
    {
     "data": {
      "text/plain": [
       "'Galactic 1'"
      ]
     },
     "execution_count": 84,
     "metadata": {},
     "output_type": "execute_result"
    }
   ],
   "source": [
    "space_ships[0]"
   ]
  },
  {
   "cell_type": "code",
   "execution_count": 85,
   "id": "f09eb578",
   "metadata": {},
   "outputs": [
    {
     "name": "stdout",
     "output_type": "stream",
     "text": [
      "Welcome neil armstrong to the Galactic 1\n",
      "Welcome buzz aldrin to the Galactic 2\n",
      "Welcome sally ride to the USS Voyager\n",
      "Welcome yuri gagarin to the Maximum Amazing Wow Space Ship\n",
      "Welcome elon musk to the Apple Space Ship\n"
     ]
    }
   ],
   "source": [
    "#Used the enumarate function to get the psositional\n",
    "for idx,name in enumerate(names):\n",
    "    ship=space_ships[idx]\n",
    "    custom_welcome_to_ship(name, ship)"
   ]
  },
  {
   "cell_type": "code",
   "execution_count": 86,
   "id": "a97f66e4",
   "metadata": {},
   "outputs": [],
   "source": [
    "#this is using keyword arguments\n",
    "def space_suit(color='Blue'):\n",
    "    print('your space suit is {}'.format(color))"
   ]
  },
  {
   "cell_type": "code",
   "execution_count": 87,
   "id": "380b04ce",
   "metadata": {},
   "outputs": [
    {
     "name": "stdout",
     "output_type": "stream",
     "text": [
      "your space suit is Blue\n"
     ]
    }
   ],
   "source": [
    "space_suit()"
   ]
  },
  {
   "cell_type": "code",
   "execution_count": 88,
   "id": "446016f7",
   "metadata": {},
   "outputs": [
    {
     "name": "stdout",
     "output_type": "stream",
     "text": [
      "your space suit is red\n"
     ]
    }
   ],
   "source": [
    "space_suit(color='red')"
   ]
  },
  {
   "cell_type": "code",
   "execution_count": 89,
   "id": "06a97b8a",
   "metadata": {},
   "outputs": [],
   "source": [
    "#Multiple keyword arguments\n",
    "def space_suit_welcome(name,space_ship,color='Blue',allergies='none'):\n",
    "    print('welcome {} to the {}, your space suit is {}, you have {} allergies'.format(name,space_ship,color,allergies))"
   ]
  },
  {
   "cell_type": "code",
   "execution_count": 90,
   "id": "391d145f",
   "metadata": {},
   "outputs": [
    {
     "name": "stdout",
     "output_type": "stream",
     "text": [
      "welcome Elon Musk to the Apple iship, your space suit is red, you have none allergies\n"
     ]
    }
   ],
   "source": [
    "space_suit_welcome('Elon Musk','Apple iship',color='red')"
   ]
  },
  {
   "cell_type": "code",
   "execution_count": 91,
   "id": "3252d198",
   "metadata": {},
   "outputs": [
    {
     "name": "stdout",
     "output_type": "stream",
     "text": [
      "welcome Elon Musk to the Apple iship, your space suit is red, you have water allergies\n"
     ]
    }
   ],
   "source": [
    "space_suit_welcome('Elon Musk','Apple iship',color='red',allergies='water')"
   ]
  },
  {
   "cell_type": "code",
   "execution_count": 92,
   "id": "06f53e37",
   "metadata": {},
   "outputs": [],
   "source": [
    "#setup a return statement\n",
    "def space_suit_welcome_with_return(name,space_ship,color='Blue',allergies='none'):\n",
    "    return 'welcome {} to the {}, your space suit is {}, you have {} allergies'.format(name,space_ship,color,allergies)"
   ]
  },
  {
   "cell_type": "code",
   "execution_count": 93,
   "id": "71b9365f",
   "metadata": {},
   "outputs": [
    {
     "data": {
      "text/plain": [
       "'welcome elon musk to the apple iship, your space suit is Blue, you have none allergies'"
      ]
     },
     "execution_count": 93,
     "metadata": {},
     "output_type": "execute_result"
    }
   ],
   "source": [
    "space_suit_welcome_with_return('elon musk','apple iship')"
   ]
  },
  {
   "cell_type": "code",
   "execution_count": 94,
   "id": "559cfa8e",
   "metadata": {},
   "outputs": [],
   "source": [
    "#Example of storing the result of the function inside a variable\n",
    "welcome=space_suit_welcome_with_return('elon musk','apple iship')"
   ]
  },
  {
   "cell_type": "code",
   "execution_count": 95,
   "id": "ed2a6f31",
   "metadata": {},
   "outputs": [
    {
     "name": "stdout",
     "output_type": "stream",
     "text": [
      "welcome elon musk to the apple iship, your space suit is Blue, you have none allergies\n"
     ]
    }
   ],
   "source": [
    "print(welcome)"
   ]
  },
  {
   "cell_type": "code",
   "execution_count": 96,
   "id": "1a34d815",
   "metadata": {},
   "outputs": [],
   "source": [
    "# Lambda function anonymous function\n",
    "pi= lambda x: x*3.14"
   ]
  },
  {
   "cell_type": "code",
   "execution_count": 97,
   "id": "2b593584",
   "metadata": {},
   "outputs": [
    {
     "data": {
      "text/plain": [
       "6.28"
      ]
     },
     "execution_count": 97,
     "metadata": {},
     "output_type": "execute_result"
    }
   ],
   "source": [
    "pi(2)"
   ]
  },
  {
   "cell_type": "code",
   "execution_count": 98,
   "id": "c5fb9b06",
   "metadata": {},
   "outputs": [],
   "source": [
    "return_value=pi(2)"
   ]
  },
  {
   "cell_type": "code",
   "execution_count": 99,
   "id": "56331fc9",
   "metadata": {},
   "outputs": [
    {
     "name": "stdout",
     "output_type": "stream",
     "text": [
      "6.28\n"
     ]
    }
   ],
   "source": [
    "print(return_value)"
   ]
  },
  {
   "cell_type": "code",
   "execution_count": 100,
   "id": "eb35b34b",
   "metadata": {},
   "outputs": [
    {
     "data": {
      "text/plain": [
       "6.28"
      ]
     },
     "execution_count": 100,
     "metadata": {},
     "output_type": "execute_result"
    }
   ],
   "source": [
    "3.14*2"
   ]
  },
  {
   "cell_type": "code",
   "execution_count": 101,
   "id": "fcfbd7d6",
   "metadata": {},
   "outputs": [],
   "source": [
    "co = lambda x: x + 2"
   ]
  },
  {
   "cell_type": "code",
   "execution_count": 102,
   "id": "b0a3d843",
   "metadata": {},
   "outputs": [
    {
     "data": {
      "text/plain": [
       "4"
      ]
     },
     "execution_count": 102,
     "metadata": {},
     "output_type": "execute_result"
    }
   ],
   "source": [
    "co(2)"
   ]
  },
  {
   "cell_type": "markdown",
   "id": "4a51bde2",
   "metadata": {},
   "source": [
    "# Classes , Attributes , Methods, Class inheritance"
   ]
  },
  {
   "cell_type": "markdown",
   "id": "9b0cac00",
   "metadata": {},
   "source": [
    "# 8. Classes"
   ]
  },
  {
   "cell_type": "code",
   "execution_count": 103,
   "id": "c934abfd",
   "metadata": {},
   "outputs": [],
   "source": [
    "#clasees as boilerplates for objects\n",
    "class Person():\n",
    "    #the method that runs as soon as you create a class\n",
    "    def __init__(self, name, age, color):\n",
    "        #create some attributes for our person class\n",
    "        self.name =name\n",
    "        self.age = age\n",
    "        self.color = color\n",
    "        \n",
    "    #date of birth method\n",
    "    def year_of_birth(self):\n",
    "        return 2022-self.age\n",
    "    \n",
    "    # Project age\n",
    "    def project_age(self,years=5):\n",
    "        return self.age+years\n",
    "        "
   ]
  },
  {
   "cell_type": "code",
   "execution_count": 104,
   "id": "9193559a",
   "metadata": {},
   "outputs": [],
   "source": [
    "new_person = Person('Elon Musk',38,'blue')"
   ]
  },
  {
   "cell_type": "code",
   "execution_count": 105,
   "id": "eb26f9f1",
   "metadata": {},
   "outputs": [
    {
     "data": {
      "text/plain": [
       "'Elon Musk'"
      ]
     },
     "execution_count": 105,
     "metadata": {},
     "output_type": "execute_result"
    }
   ],
   "source": [
    "#Accessing a class attribute\n",
    "new_person.name"
   ]
  },
  {
   "cell_type": "code",
   "execution_count": 106,
   "id": "e335d29c",
   "metadata": {},
   "outputs": [
    {
     "data": {
      "text/plain": [
       "1984"
      ]
     },
     "execution_count": 106,
     "metadata": {},
     "output_type": "execute_result"
    }
   ],
   "source": [
    "# run a method\n",
    "new_person.year_of_birth()"
   ]
  },
  {
   "cell_type": "code",
   "execution_count": 107,
   "id": "40edf9a4",
   "metadata": {},
   "outputs": [
    {
     "data": {
      "text/plain": [
       "39"
      ]
     },
     "execution_count": 107,
     "metadata": {},
     "output_type": "execute_result"
    }
   ],
   "source": [
    "#run a method with keyword argument\n",
    "new_person.project_age(years=1)"
   ]
  },
  {
   "cell_type": "markdown",
   "id": "f2002957",
   "metadata": {},
   "source": [
    "# 9. inheritance \n",
    "- Parrent is the class passing down attributes and methods =PERSON\n",
    "- CHILD is the class inheriting the method and attributes =ASTRONAUT\n"
   ]
  },
  {
   "cell_type": "code",
   "execution_count": 108,
   "id": "5c085be8",
   "metadata": {},
   "outputs": [],
   "source": [
    "#create a child class\n",
    "class Astronaut(Person):\n",
    "    # Define initialization function\n",
    "    def __init__(self,name,age,color, mission_length_in_months):\n",
    "        #This is what gives us inheritance - SUPER METHOD\n",
    "        super().__init__(name,age,color)\n",
    "        self.mission_length_months=mission_length_in_months\n",
    "    # Method for calculating age on return\n",
    "    def age_on_return(self ):\n",
    "        return self.project_age(years=int(self.mission_length_months/12))"
   ]
  },
  {
   "cell_type": "code",
   "execution_count": 109,
   "id": "c5ef4037",
   "metadata": {},
   "outputs": [],
   "source": [
    "new_astronaut= Astronaut ('suma',33,'red',48)"
   ]
  },
  {
   "cell_type": "code",
   "execution_count": 110,
   "id": "4686278b",
   "metadata": {},
   "outputs": [
    {
     "data": {
      "text/plain": [
       "'red'"
      ]
     },
     "execution_count": 110,
     "metadata": {},
     "output_type": "execute_result"
    }
   ],
   "source": [
    "#Access parent like attribute\n",
    "new_astronaut.color"
   ]
  },
  {
   "cell_type": "code",
   "execution_count": 111,
   "id": "3cdf550f",
   "metadata": {},
   "outputs": [
    {
     "data": {
      "text/plain": [
       "1989"
      ]
     },
     "execution_count": 111,
     "metadata": {},
     "output_type": "execute_result"
    }
   ],
   "source": [
    "#Access the methods\n",
    "new_astronaut.year_of_birth()"
   ]
  },
  {
   "cell_type": "code",
   "execution_count": 112,
   "id": "35733004",
   "metadata": {},
   "outputs": [
    {
     "data": {
      "text/plain": [
       "37"
      ]
     },
     "execution_count": 112,
     "metadata": {},
     "output_type": "execute_result"
    }
   ],
   "source": [
    "#run a method\n",
    "new_astronaut.age_on_return()"
   ]
  },
  {
   "cell_type": "markdown",
   "id": "eec61460",
   "metadata": {},
   "source": [
    "# Modules\n",
    "# Packages\n",
    "# Working to make API Calls"
   ]
  },
  {
   "cell_type": "markdown",
   "id": "0c6bcb8d",
   "metadata": {},
   "source": [
    "# 10. Modules"
   ]
  },
  {
   "cell_type": "code",
   "execution_count": 113,
   "id": "c6758616",
   "metadata": {},
   "outputs": [],
   "source": [
    "#import Launch codes helpers\n",
    "from helpers import launch_codes"
   ]
  },
  {
   "cell_type": "code",
   "execution_count": 114,
   "id": "d628ab4c",
   "metadata": {},
   "outputs": [
    {
     "data": {
      "text/plain": [
       "123456789"
      ]
     },
     "execution_count": 114,
     "metadata": {},
     "output_type": "execute_result"
    }
   ],
   "source": [
    "launch_codes()"
   ]
  },
  {
   "cell_type": "markdown",
   "id": "39b7be1f",
   "metadata": {},
   "source": [
    "# 11. Working with Packages"
   ]
  },
  {
   "cell_type": "code",
   "execution_count": null,
   "id": "49cb8196",
   "metadata": {},
   "outputs": [],
   "source": [
    "#pypi web packages\n",
    "!pip install requests"
   ]
  },
  {
   "cell_type": "code",
   "execution_count": 116,
   "id": "a29beea4",
   "metadata": {
    "collapsed": true
   },
   "outputs": [
    {
     "name": "stdout",
     "output_type": "stream",
     "text": [
      "Package                       Version\n",
      "----------------------------- --------------------\n",
      "absl-py                       1.3.0\n",
      "aiohttp                       3.8.1\n",
      "aiosignal                     1.2.0\n",
      "alabaster                     0.7.12\n",
      "altair                        4.2.0\n",
      "anaconda-client               1.9.0\n",
      "anaconda-navigator            2.2.0\n",
      "anaconda-project              0.10.2\n",
      "anyio                         3.5.0\n",
      "appdirs                       1.4.4\n",
      "argon2-cffi                   21.3.0\n",
      "argon2-cffi-bindings          21.2.0\n",
      "arrow                         1.2.2\n",
      "astroid                       2.6.6\n",
      "astropy                       5.0.4\n",
      "asttokens                     2.0.5\n",
      "astunparse                    1.6.3\n",
      "async-generator               1.10\n",
      "async-timeout                 4.0.1\n",
      "atomicwrites                  1.4.0\n",
      "attrs                         21.4.0\n",
      "Automat                       20.2.0\n",
      "autopep8                      1.6.0\n",
      "Babel                         2.9.1\n",
      "backcall                      0.2.0\n",
      "backports.functools-lru-cache 1.6.4\n",
      "backports.tempfile            1.0\n",
      "backports.weakref             1.0.post1\n",
      "bce-python-sdk                0.8.74\n",
      "bcrypt                        3.2.0\n",
      "beautifulsoup4                4.11.1\n",
      "binaryornot                   0.4.4\n",
      "bitarray                      2.4.1\n",
      "bkcharts                      0.2\n",
      "black                         19.10b0\n",
      "bleach                        4.1.0\n",
      "blinker                       1.5\n",
      "bokeh                         2.4.2\n",
      "boto3                         1.21.32\n",
      "botocore                      1.24.32\n",
      "Bottleneck                    1.3.4\n",
      "brotlipy                      0.7.0\n",
      "bs4                           0.0.1\n",
      "cachetools                    4.2.2\n",
      "certifi                       2021.10.8\n",
      "cffi                          1.15.0\n",
      "chardet                       4.0.0\n",
      "charset-normalizer            2.0.4\n",
      "click                         8.0.4\n",
      "cloudpickle                   2.0.0\n",
      "clyent                        1.2.2\n",
      "colorama                      0.4.4\n",
      "colorcet                      2.0.6\n",
      "commonmark                    0.9.1\n",
      "comtypes                      1.1.10\n",
      "conda                         4.13.0\n",
      "conda-build                   3.21.8\n",
      "conda-content-trust           0+unknown\n",
      "conda-pack                    0.6.0\n",
      "conda-package-handling        1.8.1\n",
      "conda-repo-cli                1.0.4\n",
      "conda-token                   0.3.0\n",
      "conda-verify                  3.4.2\n",
      "constantly                    15.1.0\n",
      "cookiecutter                  1.7.3\n",
      "cryptography                  3.4.8\n",
      "cssselect                     1.1.0\n",
      "cssutils                      2.6.0\n",
      "cycler                        0.11.0\n",
      "Cython                        0.29.28\n",
      "cytoolz                       0.11.0\n",
      "daal4py                       2021.5.0\n",
      "dask                          2022.2.1\n",
      "datashader                    0.13.0\n",
      "datashape                     0.5.4\n",
      "debugpy                       1.5.1\n",
      "decorator                     5.1.1\n",
      "defusedxml                    0.7.1\n",
      "diff-match-patch              20200713\n",
      "dill                          0.3.5.1\n",
      "distributed                   2022.2.1\n",
      "docutils                      0.17.1\n",
      "entrypoints                   0.4\n",
      "et-xmlfile                    1.1.0\n",
      "executing                     0.8.3\n",
      "fastjsonschema                2.15.1\n",
      "filelock                      3.6.0\n",
      "flake8                        3.9.2\n",
      "Flask                         1.1.2\n",
      "Flask-Babel                   2.0.0\n",
      "flatbuffers                   22.9.24\n",
      "fonttools                     4.25.0\n",
      "frozenlist                    1.2.0\n",
      "fsspec                        2022.2.0\n",
      "future                        0.18.2\n",
      "gast                          0.4.0\n",
      "gensim                        4.1.2\n",
      "gitdb                         4.0.9\n",
      "GitPython                     3.1.27\n",
      "glob2                         0.7\n",
      "google-api-core               1.25.1\n",
      "google-auth                   1.33.0\n",
      "google-auth-oauthlib          0.4.6\n",
      "google-cloud-core             1.7.1\n",
      "google-cloud-storage          1.31.0\n",
      "google-crc32c                 1.1.2\n",
      "google-pasta                  0.2.0\n",
      "google-resumable-media        1.3.1\n",
      "googleapis-common-protos      1.53.0\n",
      "greenlet                      1.1.1\n",
      "grpcio                        1.42.0\n",
      "h11                           0.13.0\n",
      "h5py                          3.6.0\n",
      "HeapDict                      1.0.1\n",
      "holoviews                     1.14.8\n",
      "hvplot                        0.7.3\n",
      "hyperlink                     21.0.0\n",
      "idna                          3.3\n",
      "imagecodecs                   2021.8.26\n",
      "imageio                       2.9.0\n",
      "imagesize                     1.3.0\n",
      "importlib-metadata            4.11.3\n",
      "incremental                   21.3.0\n",
      "inflection                    0.5.1\n",
      "iniconfig                     1.1.1\n",
      "intake                        0.6.5\n",
      "intervaltree                  3.1.0\n",
      "ipykernel                     6.9.1\n",
      "ipython                       8.2.0\n",
      "ipython-genutils              0.2.0\n",
      "ipywidgets                    7.6.5\n",
      "isort                         5.9.3\n",
      "itemadapter                   0.3.0\n",
      "itemloaders                   1.0.4\n",
      "itsdangerous                  2.0.1\n",
      "jdcal                         1.4.1\n",
      "jedi                          0.18.1\n",
      "Jinja2                        2.11.3\n",
      "jinja2-time                   0.2.0\n",
      "jmespath                      0.10.0\n",
      "joblib                        1.1.0\n",
      "json5                         0.9.6\n",
      "jsonschema                    4.4.0\n",
      "jupyter                       1.0.0\n",
      "jupyter-client                6.1.12\n",
      "jupyter-console               6.4.0\n",
      "jupyter-core                  4.9.2\n",
      "jupyter-server                1.13.5\n",
      "jupyterlab                    3.3.2\n",
      "jupyterlab-pygments           0.1.2\n",
      "jupyterlab-server             2.10.3\n",
      "jupyterlab-widgets            1.0.0\n",
      "keras                         2.10.0\n",
      "Keras-Preprocessing           1.1.2\n",
      "keyring                       23.4.0\n",
      "kiwisolver                    1.3.2\n",
      "lazy-object-proxy             1.6.0\n",
      "libarchive-c                  2.9\n",
      "libclang                      14.0.6\n",
      "llvmlite                      0.38.0\n",
      "locket                        0.2.1\n",
      "lxml                          4.8.0\n",
      "Markdown                      3.3.4\n",
      "MarkupSafe                    2.0.1\n",
      "matplotlib                    3.5.1\n",
      "matplotlib-inline             0.1.2\n",
      "mccabe                        0.6.1\n",
      "mediapipe                     0.8.11\n",
      "menuinst                      1.4.18\n",
      "mistune                       0.8.4\n",
      "mkl-fft                       1.3.1\n",
      "mkl-random                    1.2.2\n",
      "mkl-service                   2.4.0\n",
      "mock                          4.0.3\n",
      "mpmath                        1.2.1\n",
      "msgpack                       1.0.2\n",
      "multidict                     5.1.0\n",
      "multipledispatch              0.6.0\n",
      "multiprocess                  0.70.13\n",
      "munkres                       1.1.4\n",
      "mypy-extensions               0.4.3\n",
      "mysql-connector-python        8.0.30\n",
      "navigator-updater             0.2.1\n",
      "nbclassic                     0.3.5\n",
      "nbclient                      0.5.13\n",
      "nbconvert                     6.4.4\n",
      "nbformat                      5.3.0\n",
      "nest-asyncio                  1.5.5\n",
      "networkx                      2.7.1\n",
      "nltk                          3.7\n",
      "nose                          1.3.7\n",
      "notebook                      6.4.8\n",
      "numba                         0.55.1\n",
      "numexpr                       2.8.1\n",
      "numpy                         1.21.5\n",
      "numpydoc                      1.2\n",
      "oauthlib                      3.2.1\n",
      "olefile                       0.46\n",
      "opencv-contrib-python         4.6.0.66\n",
      "opencv-python                 4.6.0.66\n",
      "openpyxl                      3.0.9\n",
      "opt-einsum                    3.3.0\n",
      "outcome                       1.2.0\n",
      "packaging                     21.3\n",
      "pandas                        1.4.2\n",
      "pandasql                      0.7.3\n",
      "pandocfilters                 1.5.0\n",
      "panel                         0.13.0\n",
      "param                         1.12.0\n",
      "paramiko                      2.8.1\n",
      "parsel                        1.6.0\n",
      "parso                         0.8.3\n",
      "partd                         1.2.0\n",
      "pathspec                      0.7.0\n",
      "patsy                         0.5.2\n",
      "pep8                          1.7.1\n",
      "pexpect                       4.8.0\n",
      "pickleshare                   0.7.5\n",
      "Pillow                        9.0.1\n",
      "pip                           21.2.4\n",
      "pkginfo                       1.8.2\n",
      "plotly                        5.6.0\n",
      "pluggy                        1.0.0\n",
      "poyo                          0.5.0\n",
      "premailer                     3.10.0\n",
      "prometheus-client             0.13.1\n",
      "prompt-toolkit                3.0.20\n",
      "Protego                       0.1.16\n",
      "protobuf                      3.19.1\n",
      "psutil                        5.8.0\n",
      "ptyprocess                    0.7.0\n",
      "pure-eval                     0.2.2\n",
      "py                            1.11.0\n",
      "pyarrow                       9.0.0\n",
      "pyasn1                        0.4.8\n",
      "pyasn1-modules                0.2.8\n",
      "pyclipper                     1.3.0.post3\n",
      "pycodestyle                   2.7.0\n",
      "pycosat                       0.6.3\n",
      "pycparser                     2.21\n",
      "pycryptodome                  3.15.0\n",
      "pyct                          0.4.6\n",
      "pycurl                        7.44.1\n",
      "pydeck                        0.8.0b3\n",
      "PyDispatcher                  2.0.5\n",
      "pydocstyle                    6.1.1\n",
      "pyerfa                        2.0.0\n",
      "pyflakes                      2.3.1\n",
      "Pygments                      2.11.2\n",
      "PyHamcrest                    2.0.2\n",
      "PyJWT                         2.1.0\n",
      "pylint                        2.9.6\n",
      "pyls-spyder                   0.4.0\n",
      "Pympler                       1.0.1\n",
      "PyMuPDF                       1.18.7\n",
      "PyNaCl                        1.4.0\n",
      "pyodbc                        4.0.32\n",
      "pyOpenSSL                     21.0.0\n",
      "pyparsing                     3.0.4\n",
      "pyreadline                    2.1\n",
      "pyrsistent                    0.18.0\n",
      "PySocks                       1.7.1\n",
      "pytest                        7.1.1\n",
      "python-dateutil               2.8.2\n",
      "python-lsp-black              1.0.0\n",
      "python-lsp-jsonrpc            1.0.0\n",
      "python-lsp-server             1.2.4\n",
      "python-slugify                5.0.2\n",
      "python-snappy                 0.6.0\n",
      "pytz                          2021.3\n",
      "pytz-deprecation-shim         0.1.0.post0\n",
      "pyviz-comms                   2.0.2\n",
      "PyWavelets                    1.3.0\n",
      "pywin32                       302\n",
      "pywin32-ctypes                0.2.0\n",
      "pywinpty                      2.0.2\n",
      "PyYAML                        6.0\n",
      "pyzmq                         22.3.0\n",
      "QDarkStyle                    3.0.2\n",
      "qstylizer                     0.1.10\n",
      "QtAwesome                     1.0.3\n",
      "qtconsole                     5.3.0\n",
      "QtPy                          2.0.1\n",
      "queuelib                      1.5.0\n",
      "rapidfuzz                     2.11.1\n",
      "regex                         2022.3.15\n",
      "requests                      2.27.1\n",
      "requests-file                 1.5.1\n",
      "requests-oauthlib             1.3.1\n",
      "rich                          12.5.1\n",
      "rope                          0.22.0\n",
      "rsa                           4.7.2\n",
      "Rtree                         0.9.7\n",
      "ruamel-yaml-conda             0.15.100\n",
      "s3transfer                    0.5.0\n",
      "scikit-image                  0.19.2\n",
      "scikit-learn                  1.0.2\n",
      "scikit-learn-intelex          2021.20220215.102710\n",
      "scipy                         1.7.3\n",
      "Scrapy                        2.6.1\n",
      "seaborn                       0.11.2\n",
      "selenium                      4.4.3\n",
      "semver                        2.13.0\n",
      "Send2Trash                    1.8.0\n",
      "service-identity              18.1.0\n",
      "setuptools                    61.2.0\n",
      "Shapely                       1.8.5.post1\n",
      "sip                           4.19.13\n",
      "six                           1.16.0\n",
      "smart-open                    5.1.0\n",
      "smmap                         5.0.0\n",
      "sniffio                       1.2.0\n",
      "snowballstemmer               2.2.0\n",
      "sortedcollections             2.1.0\n",
      "sortedcontainers              2.4.0\n",
      "soupsieve                     2.3.1\n",
      "Sphinx                        4.4.0\n",
      "sphinxcontrib-applehelp       1.0.2\n",
      "sphinxcontrib-devhelp         1.0.2\n",
      "sphinxcontrib-htmlhelp        2.0.0\n",
      "sphinxcontrib-jsmath          1.0.1\n",
      "sphinxcontrib-qthelp          1.0.3\n",
      "sphinxcontrib-serializinghtml 1.1.5\n",
      "spyder                        5.1.5\n",
      "spyder-kernels                2.1.3\n",
      "SQLAlchemy                    1.4.32\n",
      "stack-data                    0.2.0\n",
      "statsmodels                   0.13.2\n",
      "streamlit                     1.12.2\n",
      "sympy                         1.10.1\n",
      "tables                        3.6.1\n",
      "tabulate                      0.8.9\n",
      "TBB                           0.2\n",
      "tblib                         1.7.0\n",
      "tenacity                      8.0.1\n",
      "tensorboard                   2.10.1\n",
      "tensorboard-data-server       0.6.1\n",
      "tensorboard-plugin-wit        1.8.1\n",
      "tensorflow                    2.10.0\n",
      "tensorflow-estimator          2.10.0\n",
      "tensorflow-io-gcs-filesystem  0.27.0\n",
      "termcolor                     2.0.1\n",
      "terminado                     0.13.1\n",
      "testpath                      0.5.0\n",
      "text-unidecode                1.3\n",
      "textdistance                  4.2.1\n",
      "threadpoolctl                 2.2.0\n",
      "three-merge                   0.1.1\n",
      "tifffile                      2021.7.2\n",
      "tinycss                       0.4\n",
      "tldextract                    3.2.0\n",
      "toml                          0.10.2\n",
      "tomli                         1.2.2\n",
      "toolz                         0.11.2\n",
      "tornado                       6.1\n",
      "tqdm                          4.64.0\n",
      "traitlets                     5.1.1\n",
      "trio                          0.21.0\n",
      "trio-websocket                0.9.2\n",
      "Twisted                       22.2.0\n",
      "twisted-iocpsupport           1.0.2\n",
      "typed-ast                     1.4.3\n",
      "typing_extensions             4.1.1\n",
      "tzdata                        2022.2\n",
      "tzlocal                       4.2\n",
      "ujson                         5.1.0\n",
      "Unidecode                     1.2.0\n",
      "urllib3                       1.26.9\n",
      "validators                    0.20.0\n",
      "visualdl                      2.4.1\n",
      "w3lib                         1.21.0\n",
      "watchdog                      2.1.6\n",
      "wcwidth                       0.2.5\n",
      "webencodings                  0.5.1\n",
      "websocket-client              0.58.0\n",
      "Werkzeug                      2.0.3\n",
      "wheel                         0.37.1\n",
      "widgetsnbextension            3.5.2\n",
      "win-inet-pton                 1.1.0\n",
      "win-unicode-console           0.5\n",
      "wincertstore                  0.2\n",
      "wrapt                         1.12.1\n",
      "wsproto                       1.2.0\n",
      "xarray                        0.20.1\n",
      "xlrd                          2.0.1\n",
      "XlsxWriter                    3.0.3\n",
      "xlwings                       0.24.9\n",
      "yapf                          0.31.0\n",
      "yarl                          1.6.3\n",
      "zict                          2.0.0\n",
      "zipp                          3.7.0\n",
      "zope.interface                5.4.0\n"
     ]
    }
   ],
   "source": [
    "!pip list"
   ]
  },
  {
   "cell_type": "code",
   "execution_count": 118,
   "id": "e610f559",
   "metadata": {},
   "outputs": [],
   "source": [
    "#Import request into notebook\n",
    "import requests"
   ]
  },
  {
   "cell_type": "code",
   "execution_count": 119,
   "id": "d5fbb413",
   "metadata": {},
   "outputs": [],
   "source": [
    "#documentation\n",
    "requests.get??"
   ]
  },
  {
   "cell_type": "code",
   "execution_count": 136,
   "id": "0f54e92c",
   "metadata": {},
   "outputs": [],
   "source": [
    "# I can has dad joke api endpoint\n",
    "joke_url= 'https://icanhazdadjoke.com'\n",
    "\n",
    "#iss API Endpoint\n",
    "iss_url= 'https://api.wheretheiss.at/v1/satellites/25544'"
   ]
  },
  {
   "cell_type": "code",
   "execution_count": 137,
   "id": "94a74661",
   "metadata": {},
   "outputs": [
    {
     "data": {
      "text/plain": [
       "'https://icanhazdadjoke.com'"
      ]
     },
     "execution_count": 137,
     "metadata": {},
     "output_type": "execute_result"
    }
   ],
   "source": [
    "joke_url"
   ]
  },
  {
   "cell_type": "code",
   "execution_count": 138,
   "id": "07f52cf7",
   "metadata": {},
   "outputs": [],
   "source": [
    "#this is setting up a header- metadata for your api request\n",
    "my_header={'Accept':'application/json'}\n",
    "\n",
    "# API call\n",
    "results = requests.get(joke_url, headers=my_header)"
   ]
  },
  {
   "cell_type": "code",
   "execution_count": 139,
   "id": "e75ddb86",
   "metadata": {},
   "outputs": [
    {
     "data": {
      "text/plain": [
       "{'id': 'qjyszskjNCd',\n",
       " 'joke': 'Wife told me to take the spider out instead of killing it... We had some drinks, cool guy, wants to be a web developer.',\n",
       " 'status': 200}"
      ]
     },
     "execution_count": 139,
     "metadata": {},
     "output_type": "execute_result"
    }
   ],
   "source": [
    "results.json()"
   ]
  },
  {
   "cell_type": "code",
   "execution_count": 140,
   "id": "f076c048",
   "metadata": {},
   "outputs": [],
   "source": [
    "# Extract JSON results form API\n",
    "json_result=results.json()"
   ]
  },
  {
   "cell_type": "code",
   "execution_count": 141,
   "id": "ccf69de9",
   "metadata": {},
   "outputs": [
    {
     "data": {
      "text/plain": [
       "dict"
      ]
     },
     "execution_count": 141,
     "metadata": {},
     "output_type": "execute_result"
    }
   ],
   "source": [
    "type(json_result)"
   ]
  },
  {
   "cell_type": "code",
   "execution_count": 142,
   "id": "2e33d410",
   "metadata": {},
   "outputs": [
    {
     "data": {
      "text/plain": [
       "'Wife told me to take the spider out instead of killing it... We had some drinks, cool guy, wants to be a web developer.'"
      ]
     },
     "execution_count": 142,
     "metadata": {},
     "output_type": "execute_result"
    }
   ],
   "source": [
    "json_result['joke']"
   ]
  },
  {
   "cell_type": "code",
   "execution_count": 143,
   "id": "34722f8e",
   "metadata": {},
   "outputs": [],
   "source": [
    "# Making an ISS API CALL\n",
    "iss_results=requests.get(iss_url, headers=my_header)"
   ]
  },
  {
   "cell_type": "code",
   "execution_count": 144,
   "id": "191dae01",
   "metadata": {},
   "outputs": [
    {
     "data": {
      "text/plain": [
       "<Response [200]>"
      ]
     },
     "execution_count": 144,
     "metadata": {},
     "output_type": "execute_result"
    }
   ],
   "source": [
    "iss_results"
   ]
  },
  {
   "cell_type": "code",
   "execution_count": 146,
   "id": "c2aeb924",
   "metadata": {},
   "outputs": [
    {
     "data": {
      "text/plain": [
       "{'name': 'iss',\n",
       " 'id': 25544,\n",
       " 'latitude': -25.515164662932,\n",
       " 'longitude': 73.563922060353,\n",
       " 'altitude': 424.48337647401,\n",
       " 'velocity': 27563.575512769,\n",
       " 'visibility': 'daylight',\n",
       " 'footprint': 4530.2028952915,\n",
       " 'timestamp': 1668168137,\n",
       " 'daynum': 2459895.0015856,\n",
       " 'solar_lat': -17.490955718272,\n",
       " 'solar_lon': 355.43708740755,\n",
       " 'units': 'kilometers'}"
      ]
     },
     "execution_count": 146,
     "metadata": {},
     "output_type": "execute_result"
    }
   ],
   "source": [
    "iss_results.json()"
   ]
  },
  {
   "cell_type": "markdown",
   "id": "0bc6f32a",
   "metadata": {},
   "source": [
    "#  File Writing\n",
    "#  File Reading\n",
    "#  Error Handling"
   ]
  },
  {
   "cell_type": "markdown",
   "id": "a85078d0",
   "metadata": {},
   "source": [
    "# 12. Working with Files"
   ]
  },
  {
   "cell_type": "code",
   "execution_count": 148,
   "id": "e3a962f0",
   "metadata": {},
   "outputs": [],
   "source": [
    "# Write out aour mission journal\n",
    "with open ('mission_journal.txt', 'w' ) as f:\n",
    "    f.write(\"it's my first on the space mission. it is erry nice.\")"
   ]
  },
  {
   "cell_type": "code",
   "execution_count": 147,
   "id": "c860a74b",
   "metadata": {},
   "outputs": [],
   "source": [
    "open??"
   ]
  },
  {
   "cell_type": "code",
   "execution_count": 149,
   "id": "d8b61f18",
   "metadata": {},
   "outputs": [],
   "source": [
    "#Read from journal\n",
    "with open ('mission_journal.txt','r') as f:\n",
    "    file = f.read()\n",
    "    "
   ]
  },
  {
   "cell_type": "code",
   "execution_count": 150,
   "id": "3a483979",
   "metadata": {},
   "outputs": [
    {
     "name": "stdout",
     "output_type": "stream",
     "text": [
      "it's my first on the space mission. it is erry nice.\n"
     ]
    }
   ],
   "source": [
    "print(file)"
   ]
  },
  {
   "cell_type": "markdown",
   "id": "ce7536d3",
   "metadata": {},
   "source": [
    "# 13. Error Handling"
   ]
  },
  {
   "cell_type": "code",
   "execution_count": 155,
   "id": "8762accc",
   "metadata": {},
   "outputs": [],
   "source": [
    "# Create a set\n",
    "#new-set = new_set((1,2,3,4,5,6))\n",
    "new_set = {1,2,3,4,5,6}"
   ]
  },
  {
   "cell_type": "code",
   "execution_count": 156,
   "id": "a4d76b92",
   "metadata": {},
   "outputs": [
    {
     "ename": "TypeError",
     "evalue": "'set' object does not support item assignment",
     "output_type": "error",
     "traceback": [
      "\u001b[1;31m---------------------------------------------------------------------------\u001b[0m",
      "\u001b[1;31mTypeError\u001b[0m                                 Traceback (most recent call last)",
      "Input \u001b[1;32mIn [156]\u001b[0m, in \u001b[0;36m<cell line: 1>\u001b[1;34m()\u001b[0m\n\u001b[1;32m----> 1\u001b[0m new_set[\u001b[38;5;241m0\u001b[39m]\u001b[38;5;241m=\u001b[39m\u001b[38;5;241m4\u001b[39m\n",
      "\u001b[1;31mTypeError\u001b[0m: 'set' object does not support item assignment"
     ]
    }
   ],
   "source": [
    "new_set[0]=4"
   ]
  },
  {
   "cell_type": "code",
   "execution_count": 160,
   "id": "0306d2eb",
   "metadata": {},
   "outputs": [
    {
     "name": "stdout",
     "output_type": "stream",
     "text": [
      "'set' object does not support item assignment\n",
      "Something went wrong with your request.\n"
     ]
    }
   ],
   "source": [
    "# Try something using the try keyword\n",
    "try:\n",
    "    # run a piece of code which may cause an error\n",
    "    new_set[0]= 4\n",
    "    \n",
    "# if we have an error, this code below will run\n",
    "except Exception as e:\n",
    "    print (e)\n",
    "    #print out something thats a little nicer for the user\n",
    "    print('Something went wrong with your request.')"
   ]
  }
 ],
 "metadata": {
  "kernelspec": {
   "display_name": "Python 3 (ipykernel)",
   "language": "python",
   "name": "python3"
  },
  "language_info": {
   "codemirror_mode": {
    "name": "ipython",
    "version": 3
   },
   "file_extension": ".py",
   "mimetype": "text/x-python",
   "name": "python",
   "nbconvert_exporter": "python",
   "pygments_lexer": "ipython3",
   "version": "3.9.12"
  }
 },
 "nbformat": 4,
 "nbformat_minor": 5
}
