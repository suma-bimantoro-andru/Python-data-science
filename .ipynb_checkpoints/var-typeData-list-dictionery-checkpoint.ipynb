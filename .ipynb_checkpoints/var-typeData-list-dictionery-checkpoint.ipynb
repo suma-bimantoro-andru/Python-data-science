{
 "cells": [
  {
   "cell_type": "markdown",
   "id": "e9688bd7",
   "metadata": {},
   "source": [
    "# 1.Variable"
   ]
  },
  {
   "cell_type": "code",
   "execution_count": 81,
   "id": "9936c67e",
   "metadata": {},
   "outputs": [],
   "source": [
    "nama='suma'"
   ]
  },
  {
   "cell_type": "code",
   "execution_count": 82,
   "id": "07ea6007",
   "metadata": {},
   "outputs": [
    {
     "name": "stdout",
     "output_type": "stream",
     "text": [
      "suma\n"
     ]
    }
   ],
   "source": [
    "print(nama)"
   ]
  },
  {
   "cell_type": "markdown",
   "id": "b0865718",
   "metadata": {},
   "source": [
    "# 2. Data Types"
   ]
  },
  {
   "cell_type": "code",
   "execution_count": null,
   "id": "2eebef8e",
   "metadata": {},
   "outputs": [],
   "source": [
    "#create int\n",
    "number = 123"
   ]
  },
  {
   "cell_type": "code",
   "execution_count": 2,
   "id": "5dfe8e92",
   "metadata": {},
   "outputs": [
    {
     "data": {
      "text/plain": [
       "int"
      ]
     },
     "execution_count": 2,
     "metadata": {},
     "output_type": "execute_result"
    }
   ],
   "source": [
    "type(number)"
   ]
  },
  {
   "cell_type": "code",
   "execution_count": 5,
   "id": "18917bb2",
   "metadata": {},
   "outputs": [],
   "source": [
    "#create string\n",
    "number_string='satu'"
   ]
  },
  {
   "cell_type": "code",
   "execution_count": 6,
   "id": "9f53f3c2",
   "metadata": {},
   "outputs": [
    {
     "data": {
      "text/plain": [
       "str"
      ]
     },
     "execution_count": 6,
     "metadata": {},
     "output_type": "execute_result"
    }
   ],
   "source": [
    "type(number_string)"
   ]
  },
  {
   "cell_type": "code",
   "execution_count": 8,
   "id": "4e5e2a26",
   "metadata": {},
   "outputs": [],
   "source": [
    "#create float\n",
    "number_float=123.2"
   ]
  },
  {
   "cell_type": "code",
   "execution_count": 9,
   "id": "b3fb8853",
   "metadata": {},
   "outputs": [
    {
     "data": {
      "text/plain": [
       "float"
      ]
     },
     "execution_count": 9,
     "metadata": {},
     "output_type": "execute_result"
    }
   ],
   "source": [
    "type(number_float)"
   ]
  },
  {
   "cell_type": "code",
   "execution_count": 10,
   "id": "0e5e507f",
   "metadata": {},
   "outputs": [],
   "source": [
    "#create bool\n",
    "bool_variable=True"
   ]
  },
  {
   "cell_type": "code",
   "execution_count": 11,
   "id": "8ae5269e",
   "metadata": {},
   "outputs": [
    {
     "data": {
      "text/plain": [
       "bool"
      ]
     },
     "execution_count": 11,
     "metadata": {},
     "output_type": "execute_result"
    }
   ],
   "source": [
    "type(bool_variable)"
   ]
  },
  {
   "cell_type": "code",
   "execution_count": 12,
   "id": "1d0094c6",
   "metadata": {},
   "outputs": [],
   "source": [
    "bool_variable_f=bool(0)"
   ]
  },
  {
   "cell_type": "code",
   "execution_count": 13,
   "id": "778784bc",
   "metadata": {},
   "outputs": [
    {
     "data": {
      "text/plain": [
       "False"
      ]
     },
     "execution_count": 13,
     "metadata": {},
     "output_type": "execute_result"
    }
   ],
   "source": [
    "bool_variable_f"
   ]
  },
  {
   "cell_type": "code",
   "execution_count": 14,
   "id": "d34c9a3c",
   "metadata": {},
   "outputs": [],
   "source": [
    "#creating a list variable\n",
    "list_variable=[1,2,3,4,4.5]"
   ]
  },
  {
   "cell_type": "code",
   "execution_count": 15,
   "id": "aa6c9bb6",
   "metadata": {},
   "outputs": [
    {
     "data": {
      "text/plain": [
       "list"
      ]
     },
     "execution_count": 15,
     "metadata": {},
     "output_type": "execute_result"
    }
   ],
   "source": [
    "type(list_variable)"
   ]
  },
  {
   "cell_type": "code",
   "execution_count": 24,
   "id": "edec406e",
   "metadata": {},
   "outputs": [],
   "source": [
    "list_variable[1]=234"
   ]
  },
  {
   "cell_type": "code",
   "execution_count": 25,
   "id": "912e04c3",
   "metadata": {},
   "outputs": [
    {
     "data": {
      "text/plain": [
       "[1, 234, 3, 4, 4.5]"
      ]
     },
     "execution_count": 25,
     "metadata": {},
     "output_type": "execute_result"
    }
   ],
   "source": [
    "list_variable"
   ]
  },
  {
   "cell_type": "code",
   "execution_count": 19,
   "id": "18abe55d",
   "metadata": {},
   "outputs": [
    {
     "data": {
      "text/plain": [
       "tuple"
      ]
     },
     "execution_count": 19,
     "metadata": {},
     "output_type": "execute_result"
    }
   ],
   "source": [
    "#create a tuple variable, IMMUTABLE=you can't change the value\n",
    "tuple_variable=(1,2,3,4,4.5)\n",
    "type(tuple_variable)"
   ]
  },
  {
   "cell_type": "code",
   "execution_count": 23,
   "id": "0b223f1c",
   "metadata": {},
   "outputs": [
    {
     "data": {
      "text/plain": [
       "1"
      ]
     },
     "execution_count": 23,
     "metadata": {},
     "output_type": "execute_result"
    }
   ],
   "source": [
    "tuple_variable[0]\n"
   ]
  },
  {
   "cell_type": "code",
   "execution_count": 26,
   "id": "002f41fd",
   "metadata": {},
   "outputs": [
    {
     "data": {
      "text/plain": [
       "set"
      ]
     },
     "execution_count": 26,
     "metadata": {},
     "output_type": "execute_result"
    }
   ],
   "source": [
    "# this is creating a set variable, IMMUTABLE=you can't change the value\n",
    "set_variable={1,2,3,4,4.5}\n",
    "type(set_variable)"
   ]
  },
  {
   "cell_type": "code",
   "execution_count": 30,
   "id": "b1e360c8",
   "metadata": {},
   "outputs": [
    {
     "data": {
      "text/plain": [
       "[1, 3, 4, 4.5, 234]"
      ]
     },
     "execution_count": 30,
     "metadata": {},
     "output_type": "execute_result"
    }
   ],
   "source": [
    "#type casting list to set back to list to get rid of duplicate\n",
    "list(set(list_variable))"
   ]
  },
  {
   "cell_type": "code",
   "execution_count": 32,
   "id": "656b60e0",
   "metadata": {},
   "outputs": [
    {
     "data": {
      "text/plain": [
       "list"
      ]
     },
     "execution_count": 32,
     "metadata": {},
     "output_type": "execute_result"
    }
   ],
   "source": [
    "type(list(set(list_variable)))"
   ]
  },
  {
   "cell_type": "code",
   "execution_count": 37,
   "id": "ae6b8478",
   "metadata": {},
   "outputs": [],
   "source": [
    "#defining a dictionary variable\n",
    "person_variable={'name':\"suma\", 'favorite_color':'red', 'favorite_number':20}"
   ]
  },
  {
   "cell_type": "code",
   "execution_count": 38,
   "id": "e6b39315",
   "metadata": {},
   "outputs": [
    {
     "data": {
      "text/plain": [
       "dict"
      ]
     },
     "execution_count": 38,
     "metadata": {},
     "output_type": "execute_result"
    }
   ],
   "source": [
    "type(person_variable)"
   ]
  },
  {
   "cell_type": "code",
   "execution_count": 39,
   "id": "379fc0cf",
   "metadata": {},
   "outputs": [
    {
     "name": "stdout",
     "output_type": "stream",
     "text": [
      "{'name': 'suma', 'favorite_color': 'red', 'favorite_number': 20}\n"
     ]
    }
   ],
   "source": [
    "print(person_variable)"
   ]
  },
  {
   "cell_type": "code",
   "execution_count": 40,
   "id": "e6f6c13d",
   "metadata": {},
   "outputs": [
    {
     "data": {
      "text/plain": [
       "'suma'"
      ]
     },
     "execution_count": 40,
     "metadata": {},
     "output_type": "execute_result"
    }
   ],
   "source": [
    "person_variable['name']"
   ]
  },
  {
   "cell_type": "code",
   "execution_count": 41,
   "id": "17a4f145",
   "metadata": {},
   "outputs": [],
   "source": [
    "fit_models={}"
   ]
  },
  {
   "cell_type": "code",
   "execution_count": 42,
   "id": "e098e61b",
   "metadata": {},
   "outputs": [
    {
     "data": {
      "text/plain": [
       "(1, 234, 3, 4, 4.5)"
      ]
     },
     "execution_count": 42,
     "metadata": {},
     "output_type": "execute_result"
    }
   ],
   "source": [
    "tuple(list_variable)"
   ]
  },
  {
   "cell_type": "markdown",
   "id": "a0870dac",
   "metadata": {},
   "source": [
    "# 3.List"
   ]
  },
  {
   "cell_type": "code",
   "execution_count": 47,
   "id": "47a8f1bb",
   "metadata": {},
   "outputs": [],
   "source": [
    "#create\n",
    "names=['neil armstrong','buzz aldrin','sally ride','yuri gagarin','elon musk']"
   ]
  },
  {
   "cell_type": "code",
   "execution_count": 48,
   "id": "c1b1c072",
   "metadata": {},
   "outputs": [
    {
     "data": {
      "text/plain": [
       "['neil armstrong', 'buzz aldrin', 'sally ride', 'yuri gagarin', 'elon musk']"
      ]
     },
     "execution_count": 48,
     "metadata": {},
     "output_type": "execute_result"
    }
   ],
   "source": [
    "#Read\n",
    "names"
   ]
  },
  {
   "cell_type": "code",
   "execution_count": 51,
   "id": "6eece34f",
   "metadata": {},
   "outputs": [
    {
     "data": {
      "text/plain": [
       "'neil armstrong'"
      ]
     },
     "execution_count": 51,
     "metadata": {},
     "output_type": "execute_result"
    }
   ],
   "source": [
    "#reading using indexing\n",
    "names[0]"
   ]
  },
  {
   "cell_type": "code",
   "execution_count": 52,
   "id": "e1e54203",
   "metadata": {},
   "outputs": [
    {
     "data": {
      "text/plain": [
       "'elon musk'"
      ]
     },
     "execution_count": 52,
     "metadata": {},
     "output_type": "execute_result"
    }
   ],
   "source": [
    "names[-1]"
   ]
  },
  {
   "cell_type": "code",
   "execution_count": 53,
   "id": "172f11e9",
   "metadata": {},
   "outputs": [
    {
     "data": {
      "text/plain": [
       "5"
      ]
     },
     "execution_count": 53,
     "metadata": {},
     "output_type": "execute_result"
    }
   ],
   "source": [
    "len(names)"
   ]
  },
  {
   "cell_type": "code",
   "execution_count": 49,
   "id": "c79f3136",
   "metadata": {},
   "outputs": [],
   "source": [
    "#Update"
   ]
  },
  {
   "cell_type": "code",
   "execution_count": 55,
   "id": "5a0a32c5",
   "metadata": {},
   "outputs": [
    {
     "data": {
      "text/plain": [
       "['neil armstrong', 'buzz aldrin', 'sally ride', 'yuri gagarin', 'suma']"
      ]
     },
     "execution_count": 55,
     "metadata": {},
     "output_type": "execute_result"
    }
   ],
   "source": [
    "names[-1]='suma'\n",
    "names"
   ]
  },
  {
   "cell_type": "code",
   "execution_count": 56,
   "id": "23f614b3",
   "metadata": {},
   "outputs": [],
   "source": [
    "names.append('elon musk')"
   ]
  },
  {
   "cell_type": "code",
   "execution_count": 57,
   "id": "c372e8a0",
   "metadata": {},
   "outputs": [
    {
     "data": {
      "text/plain": [
       "['neil armstrong',\n",
       " 'buzz aldrin',\n",
       " 'sally ride',\n",
       " 'yuri gagarin',\n",
       " 'suma',\n",
       " 'elon musk']"
      ]
     },
     "execution_count": 57,
     "metadata": {},
     "output_type": "execute_result"
    }
   ],
   "source": [
    "names"
   ]
  },
  {
   "cell_type": "code",
   "execution_count": 58,
   "id": "239a0739",
   "metadata": {},
   "outputs": [],
   "source": [
    "names.insert??"
   ]
  },
  {
   "cell_type": "code",
   "execution_count": 59,
   "id": "db94343f",
   "metadata": {},
   "outputs": [],
   "source": [
    "names.insert(0,'richard')"
   ]
  },
  {
   "cell_type": "code",
   "execution_count": 60,
   "id": "4046f1d5",
   "metadata": {},
   "outputs": [
    {
     "data": {
      "text/plain": [
       "['richard',\n",
       " 'neil armstrong',\n",
       " 'buzz aldrin',\n",
       " 'sally ride',\n",
       " 'yuri gagarin',\n",
       " 'suma',\n",
       " 'elon musk']"
      ]
     },
     "execution_count": 60,
     "metadata": {},
     "output_type": "execute_result"
    }
   ],
   "source": [
    "names"
   ]
  },
  {
   "cell_type": "code",
   "execution_count": null,
   "id": "79e94a5a",
   "metadata": {},
   "outputs": [],
   "source": [
    "#Delete"
   ]
  },
  {
   "cell_type": "code",
   "execution_count": 62,
   "id": "c02b676e",
   "metadata": {},
   "outputs": [],
   "source": [
    "del names[-2]"
   ]
  },
  {
   "cell_type": "code",
   "execution_count": 63,
   "id": "823801a0",
   "metadata": {},
   "outputs": [
    {
     "data": {
      "text/plain": [
       "['richard',\n",
       " 'neil armstrong',\n",
       " 'buzz aldrin',\n",
       " 'sally ride',\n",
       " 'yuri gagarin',\n",
       " 'elon musk']"
      ]
     },
     "execution_count": 63,
     "metadata": {},
     "output_type": "execute_result"
    }
   ],
   "source": [
    "names"
   ]
  },
  {
   "cell_type": "markdown",
   "id": "453aa138",
   "metadata": {},
   "source": [
    "# 4.Dictionaries"
   ]
  },
  {
   "cell_type": "code",
   "execution_count": 67,
   "id": "ddf229c3",
   "metadata": {},
   "outputs": [],
   "source": [
    "#create\n",
    "astronaut={\n",
    "    'name':'elon musk',\n",
    "    'suit_size':'large',\n",
    "    'allergies':'peanuts'\n",
    "}"
   ]
  },
  {
   "cell_type": "code",
   "execution_count": 65,
   "id": "ad0ffc78",
   "metadata": {},
   "outputs": [],
   "source": [
    "#Read"
   ]
  },
  {
   "cell_type": "code",
   "execution_count": 68,
   "id": "39b611e1",
   "metadata": {},
   "outputs": [
    {
     "data": {
      "text/plain": [
       "{'name': 'elon musk', 'suit_size': 'large', 'allergies': 'peanuts'}"
      ]
     },
     "execution_count": 68,
     "metadata": {},
     "output_type": "execute_result"
    }
   ],
   "source": [
    "astronaut"
   ]
  },
  {
   "cell_type": "code",
   "execution_count": 70,
   "id": "fa755a79",
   "metadata": {},
   "outputs": [
    {
     "data": {
      "text/plain": [
       "'large'"
      ]
     },
     "execution_count": 70,
     "metadata": {},
     "output_type": "execute_result"
    }
   ],
   "source": [
    "astronaut['suit_size']"
   ]
  },
  {
   "cell_type": "code",
   "execution_count": 72,
   "id": "cbd0d857",
   "metadata": {},
   "outputs": [
    {
     "data": {
      "text/plain": [
       "dict_keys(['name', 'suit_size', 'allergies'])"
      ]
     },
     "execution_count": 72,
     "metadata": {},
     "output_type": "execute_result"
    }
   ],
   "source": [
    "astronaut.keys()"
   ]
  },
  {
   "cell_type": "code",
   "execution_count": 73,
   "id": "d88fea42",
   "metadata": {},
   "outputs": [
    {
     "data": {
      "text/plain": [
       "dict_values(['elon musk', 'large', 'peanuts'])"
      ]
     },
     "execution_count": 73,
     "metadata": {},
     "output_type": "execute_result"
    }
   ],
   "source": [
    "astronaut.values()"
   ]
  },
  {
   "cell_type": "code",
   "execution_count": 66,
   "id": "e7232b64",
   "metadata": {},
   "outputs": [],
   "source": [
    "#Update"
   ]
  },
  {
   "cell_type": "code",
   "execution_count": 74,
   "id": "bd77b5ac",
   "metadata": {},
   "outputs": [],
   "source": [
    "astronaut['allergies']='mango'"
   ]
  },
  {
   "cell_type": "code",
   "execution_count": 76,
   "id": "0ac06d9e",
   "metadata": {},
   "outputs": [
    {
     "data": {
      "text/plain": [
       "{'name': 'elon musk', 'suit_size': 'large', 'allergies': 'mango'}"
      ]
     },
     "execution_count": 76,
     "metadata": {},
     "output_type": "execute_result"
    }
   ],
   "source": [
    "astronaut"
   ]
  },
  {
   "cell_type": "code",
   "execution_count": 77,
   "id": "40b309da",
   "metadata": {},
   "outputs": [],
   "source": [
    "astronaut['space_ship']='Galactic 1'"
   ]
  },
  {
   "cell_type": "code",
   "execution_count": 78,
   "id": "5fc35d44",
   "metadata": {},
   "outputs": [
    {
     "data": {
      "text/plain": [
       "{'name': 'elon musk',\n",
       " 'suit_size': 'large',\n",
       " 'allergies': 'mango',\n",
       " 'space_ship': 'Galactic 1'}"
      ]
     },
     "execution_count": 78,
     "metadata": {},
     "output_type": "execute_result"
    }
   ],
   "source": [
    "astronaut"
   ]
  },
  {
   "cell_type": "code",
   "execution_count": null,
   "id": "da68ede8",
   "metadata": {},
   "outputs": [],
   "source": [
    "#Delete"
   ]
  },
  {
   "cell_type": "code",
   "execution_count": 79,
   "id": "46a80fec",
   "metadata": {},
   "outputs": [],
   "source": [
    "del astronaut['space_ship']"
   ]
  },
  {
   "cell_type": "code",
   "execution_count": 80,
   "id": "157c3da4",
   "metadata": {},
   "outputs": [
    {
     "data": {
      "text/plain": [
       "{'name': 'elon musk', 'suit_size': 'large', 'allergies': 'mango'}"
      ]
     },
     "execution_count": 80,
     "metadata": {},
     "output_type": "execute_result"
    }
   ],
   "source": [
    "astronaut"
   ]
  }
 ],
 "metadata": {
  "kernelspec": {
   "display_name": "Python 3 (ipykernel)",
   "language": "python",
   "name": "python3"
  },
  "language_info": {
   "codemirror_mode": {
    "name": "ipython",
    "version": 3
   },
   "file_extension": ".py",
   "mimetype": "text/x-python",
   "name": "python",
   "nbconvert_exporter": "python",
   "pygments_lexer": "ipython3",
   "version": "3.9.12"
  }
 },
 "nbformat": 4,
 "nbformat_minor": 5
}
