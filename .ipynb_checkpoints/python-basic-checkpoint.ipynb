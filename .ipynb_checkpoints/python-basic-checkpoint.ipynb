{
 "cells": [
  {
   "cell_type": "markdown",
   "id": "e9688bd7",
   "metadata": {},
   "source": [
    "# 1.Variable"
   ]
  },
  {
   "cell_type": "code",
   "execution_count": 61,
   "id": "9936c67e",
   "metadata": {},
   "outputs": [],
   "source": [
    "nama='suma'"
   ]
  },
  {
   "cell_type": "code",
   "execution_count": 62,
   "id": "07ea6007",
   "metadata": {},
   "outputs": [
    {
     "name": "stdout",
     "output_type": "stream",
     "text": [
      "suma\n"
     ]
    }
   ],
   "source": [
    "print(nama)"
   ]
  },
  {
   "cell_type": "markdown",
   "id": "b0865718",
   "metadata": {},
   "source": [
    "# 2. Data Types"
   ]
  },
  {
   "cell_type": "code",
   "execution_count": 63,
   "id": "2eebef8e",
   "metadata": {},
   "outputs": [],
   "source": [
    "#create int\n",
    "number = 123"
   ]
  },
  {
   "cell_type": "code",
   "execution_count": 64,
   "id": "5dfe8e92",
   "metadata": {},
   "outputs": [
    {
     "data": {
      "text/plain": [
       "int"
      ]
     },
     "execution_count": 64,
     "metadata": {},
     "output_type": "execute_result"
    }
   ],
   "source": [
    "type(number)"
   ]
  },
  {
   "cell_type": "code",
   "execution_count": 65,
   "id": "18917bb2",
   "metadata": {},
   "outputs": [],
   "source": [
    "#create string\n",
    "number_string='satu'"
   ]
  },
  {
   "cell_type": "code",
   "execution_count": 66,
   "id": "9f53f3c2",
   "metadata": {},
   "outputs": [
    {
     "data": {
      "text/plain": [
       "str"
      ]
     },
     "execution_count": 66,
     "metadata": {},
     "output_type": "execute_result"
    }
   ],
   "source": [
    "type(number_string)"
   ]
  },
  {
   "cell_type": "code",
   "execution_count": 67,
   "id": "4e5e2a26",
   "metadata": {},
   "outputs": [],
   "source": [
    "#create float\n",
    "number_float=123.2"
   ]
  },
  {
   "cell_type": "code",
   "execution_count": 68,
   "id": "b3fb8853",
   "metadata": {},
   "outputs": [
    {
     "data": {
      "text/plain": [
       "float"
      ]
     },
     "execution_count": 68,
     "metadata": {},
     "output_type": "execute_result"
    }
   ],
   "source": [
    "type(number_float)"
   ]
  },
  {
   "cell_type": "code",
   "execution_count": 69,
   "id": "0e5e507f",
   "metadata": {},
   "outputs": [],
   "source": [
    "#create bool\n",
    "bool_variable=True"
   ]
  },
  {
   "cell_type": "code",
   "execution_count": 70,
   "id": "8ae5269e",
   "metadata": {},
   "outputs": [
    {
     "data": {
      "text/plain": [
       "bool"
      ]
     },
     "execution_count": 70,
     "metadata": {},
     "output_type": "execute_result"
    }
   ],
   "source": [
    "type(bool_variable)"
   ]
  },
  {
   "cell_type": "code",
   "execution_count": 71,
   "id": "1d0094c6",
   "metadata": {},
   "outputs": [],
   "source": [
    "bool_variable_f=bool(0)"
   ]
  },
  {
   "cell_type": "code",
   "execution_count": 72,
   "id": "778784bc",
   "metadata": {},
   "outputs": [
    {
     "data": {
      "text/plain": [
       "False"
      ]
     },
     "execution_count": 72,
     "metadata": {},
     "output_type": "execute_result"
    }
   ],
   "source": [
    "bool_variable_f"
   ]
  },
  {
   "cell_type": "code",
   "execution_count": 73,
   "id": "d34c9a3c",
   "metadata": {},
   "outputs": [],
   "source": [
    "#creating a list variable\n",
    "list_variable=[1,2,3,4,4.5]"
   ]
  },
  {
   "cell_type": "code",
   "execution_count": 74,
   "id": "aa6c9bb6",
   "metadata": {},
   "outputs": [
    {
     "data": {
      "text/plain": [
       "list"
      ]
     },
     "execution_count": 74,
     "metadata": {},
     "output_type": "execute_result"
    }
   ],
   "source": [
    "type(list_variable)"
   ]
  },
  {
   "cell_type": "code",
   "execution_count": 75,
   "id": "edec406e",
   "metadata": {},
   "outputs": [],
   "source": [
    "list_variable[1]=234"
   ]
  },
  {
   "cell_type": "code",
   "execution_count": 76,
   "id": "912e04c3",
   "metadata": {},
   "outputs": [
    {
     "data": {
      "text/plain": [
       "[1, 234, 3, 4, 4.5]"
      ]
     },
     "execution_count": 76,
     "metadata": {},
     "output_type": "execute_result"
    }
   ],
   "source": [
    "list_variable"
   ]
  },
  {
   "cell_type": "code",
   "execution_count": 77,
   "id": "18abe55d",
   "metadata": {},
   "outputs": [
    {
     "data": {
      "text/plain": [
       "tuple"
      ]
     },
     "execution_count": 77,
     "metadata": {},
     "output_type": "execute_result"
    }
   ],
   "source": [
    "#create a tuple variable, IMMUTABLE=you can't change the value\n",
    "tuple_variable=(1,2,3,4,4.5)\n",
    "type(tuple_variable)"
   ]
  },
  {
   "cell_type": "code",
   "execution_count": 78,
   "id": "0b223f1c",
   "metadata": {},
   "outputs": [
    {
     "data": {
      "text/plain": [
       "1"
      ]
     },
     "execution_count": 78,
     "metadata": {},
     "output_type": "execute_result"
    }
   ],
   "source": [
    "tuple_variable[0]\n"
   ]
  },
  {
   "cell_type": "code",
   "execution_count": 79,
   "id": "002f41fd",
   "metadata": {},
   "outputs": [
    {
     "data": {
      "text/plain": [
       "set"
      ]
     },
     "execution_count": 79,
     "metadata": {},
     "output_type": "execute_result"
    }
   ],
   "source": [
    "# this is creating a set variable, IMMUTABLE=you can't change the value\n",
    "set_variable={1,2,3,4,4.5}\n",
    "type(set_variable)"
   ]
  },
  {
   "cell_type": "code",
   "execution_count": 80,
   "id": "b1e360c8",
   "metadata": {},
   "outputs": [
    {
     "data": {
      "text/plain": [
       "[1, 3, 4, 4.5, 234]"
      ]
     },
     "execution_count": 80,
     "metadata": {},
     "output_type": "execute_result"
    }
   ],
   "source": [
    "#type casting list to set back to list to get rid of duplicate\n",
    "list(set(list_variable))"
   ]
  },
  {
   "cell_type": "code",
   "execution_count": 81,
   "id": "656b60e0",
   "metadata": {},
   "outputs": [
    {
     "data": {
      "text/plain": [
       "list"
      ]
     },
     "execution_count": 81,
     "metadata": {},
     "output_type": "execute_result"
    }
   ],
   "source": [
    "type(list(set(list_variable)))"
   ]
  },
  {
   "cell_type": "code",
   "execution_count": 82,
   "id": "ae6b8478",
   "metadata": {},
   "outputs": [],
   "source": [
    "#defining a dictionary variable\n",
    "person_variable={'name':\"suma\", 'favorite_color':'red', 'favorite_number':20}"
   ]
  },
  {
   "cell_type": "code",
   "execution_count": 83,
   "id": "e6b39315",
   "metadata": {},
   "outputs": [
    {
     "data": {
      "text/plain": [
       "dict"
      ]
     },
     "execution_count": 83,
     "metadata": {},
     "output_type": "execute_result"
    }
   ],
   "source": [
    "type(person_variable)"
   ]
  },
  {
   "cell_type": "code",
   "execution_count": 84,
   "id": "379fc0cf",
   "metadata": {},
   "outputs": [
    {
     "name": "stdout",
     "output_type": "stream",
     "text": [
      "{'name': 'suma', 'favorite_color': 'red', 'favorite_number': 20}\n"
     ]
    }
   ],
   "source": [
    "print(person_variable)"
   ]
  },
  {
   "cell_type": "code",
   "execution_count": 85,
   "id": "e6f6c13d",
   "metadata": {},
   "outputs": [
    {
     "data": {
      "text/plain": [
       "'suma'"
      ]
     },
     "execution_count": 85,
     "metadata": {},
     "output_type": "execute_result"
    }
   ],
   "source": [
    "person_variable['name']"
   ]
  },
  {
   "cell_type": "code",
   "execution_count": 86,
   "id": "17a4f145",
   "metadata": {},
   "outputs": [],
   "source": [
    "fit_models={}"
   ]
  },
  {
   "cell_type": "code",
   "execution_count": 87,
   "id": "e098e61b",
   "metadata": {},
   "outputs": [
    {
     "data": {
      "text/plain": [
       "(1, 234, 3, 4, 4.5)"
      ]
     },
     "execution_count": 87,
     "metadata": {},
     "output_type": "execute_result"
    }
   ],
   "source": [
    "tuple(list_variable)"
   ]
  },
  {
   "cell_type": "markdown",
   "id": "a0870dac",
   "metadata": {},
   "source": [
    "# 3.List"
   ]
  },
  {
   "cell_type": "code",
   "execution_count": 88,
   "id": "47a8f1bb",
   "metadata": {},
   "outputs": [],
   "source": [
    "#create\n",
    "names=['neil armstrong','buzz aldrin','sally ride','yuri gagarin','elon musk']"
   ]
  },
  {
   "cell_type": "code",
   "execution_count": 89,
   "id": "c1b1c072",
   "metadata": {},
   "outputs": [
    {
     "data": {
      "text/plain": [
       "['neil armstrong', 'buzz aldrin', 'sally ride', 'yuri gagarin', 'elon musk']"
      ]
     },
     "execution_count": 89,
     "metadata": {},
     "output_type": "execute_result"
    }
   ],
   "source": [
    "#Read\n",
    "names"
   ]
  },
  {
   "cell_type": "code",
   "execution_count": 90,
   "id": "6eece34f",
   "metadata": {},
   "outputs": [
    {
     "data": {
      "text/plain": [
       "'neil armstrong'"
      ]
     },
     "execution_count": 90,
     "metadata": {},
     "output_type": "execute_result"
    }
   ],
   "source": [
    "#reading using indexing\n",
    "names[0]"
   ]
  },
  {
   "cell_type": "code",
   "execution_count": 91,
   "id": "e1e54203",
   "metadata": {},
   "outputs": [
    {
     "data": {
      "text/plain": [
       "'elon musk'"
      ]
     },
     "execution_count": 91,
     "metadata": {},
     "output_type": "execute_result"
    }
   ],
   "source": [
    "names[-1]"
   ]
  },
  {
   "cell_type": "code",
   "execution_count": 92,
   "id": "172f11e9",
   "metadata": {},
   "outputs": [
    {
     "data": {
      "text/plain": [
       "5"
      ]
     },
     "execution_count": 92,
     "metadata": {},
     "output_type": "execute_result"
    }
   ],
   "source": [
    "len(names)"
   ]
  },
  {
   "cell_type": "code",
   "execution_count": 93,
   "id": "c79f3136",
   "metadata": {},
   "outputs": [],
   "source": [
    "#Update"
   ]
  },
  {
   "cell_type": "code",
   "execution_count": 94,
   "id": "5a0a32c5",
   "metadata": {},
   "outputs": [
    {
     "data": {
      "text/plain": [
       "['neil armstrong', 'buzz aldrin', 'sally ride', 'yuri gagarin', 'suma']"
      ]
     },
     "execution_count": 94,
     "metadata": {},
     "output_type": "execute_result"
    }
   ],
   "source": [
    "names[-1]='suma'\n",
    "names"
   ]
  },
  {
   "cell_type": "code",
   "execution_count": 95,
   "id": "23f614b3",
   "metadata": {},
   "outputs": [],
   "source": [
    "names.append('elon musk')"
   ]
  },
  {
   "cell_type": "code",
   "execution_count": 96,
   "id": "c372e8a0",
   "metadata": {},
   "outputs": [
    {
     "data": {
      "text/plain": [
       "['neil armstrong',\n",
       " 'buzz aldrin',\n",
       " 'sally ride',\n",
       " 'yuri gagarin',\n",
       " 'suma',\n",
       " 'elon musk']"
      ]
     },
     "execution_count": 96,
     "metadata": {},
     "output_type": "execute_result"
    }
   ],
   "source": [
    "names"
   ]
  },
  {
   "cell_type": "code",
   "execution_count": 97,
   "id": "239a0739",
   "metadata": {},
   "outputs": [],
   "source": [
    "names.insert??"
   ]
  },
  {
   "cell_type": "code",
   "execution_count": 98,
   "id": "db94343f",
   "metadata": {},
   "outputs": [],
   "source": [
    "names.insert(0,'richard')"
   ]
  },
  {
   "cell_type": "code",
   "execution_count": 99,
   "id": "4046f1d5",
   "metadata": {},
   "outputs": [
    {
     "data": {
      "text/plain": [
       "['richard',\n",
       " 'neil armstrong',\n",
       " 'buzz aldrin',\n",
       " 'sally ride',\n",
       " 'yuri gagarin',\n",
       " 'suma',\n",
       " 'elon musk']"
      ]
     },
     "execution_count": 99,
     "metadata": {},
     "output_type": "execute_result"
    }
   ],
   "source": [
    "names"
   ]
  },
  {
   "cell_type": "code",
   "execution_count": 100,
   "id": "79e94a5a",
   "metadata": {},
   "outputs": [],
   "source": [
    "#Delete"
   ]
  },
  {
   "cell_type": "code",
   "execution_count": 101,
   "id": "c02b676e",
   "metadata": {},
   "outputs": [],
   "source": [
    "del names[-2]"
   ]
  },
  {
   "cell_type": "code",
   "execution_count": 102,
   "id": "823801a0",
   "metadata": {},
   "outputs": [
    {
     "data": {
      "text/plain": [
       "['richard',\n",
       " 'neil armstrong',\n",
       " 'buzz aldrin',\n",
       " 'sally ride',\n",
       " 'yuri gagarin',\n",
       " 'elon musk']"
      ]
     },
     "execution_count": 102,
     "metadata": {},
     "output_type": "execute_result"
    }
   ],
   "source": [
    "names"
   ]
  },
  {
   "cell_type": "markdown",
   "id": "453aa138",
   "metadata": {},
   "source": [
    "# 4.Dictionaries"
   ]
  },
  {
   "cell_type": "code",
   "execution_count": 103,
   "id": "ddf229c3",
   "metadata": {},
   "outputs": [],
   "source": [
    "#create\n",
    "astronaut={\n",
    "    'name':'elon musk',\n",
    "    'suit_size':'large',\n",
    "    'allergies':'peanuts'\n",
    "}"
   ]
  },
  {
   "cell_type": "code",
   "execution_count": 104,
   "id": "ad0ffc78",
   "metadata": {},
   "outputs": [],
   "source": [
    "#Read"
   ]
  },
  {
   "cell_type": "code",
   "execution_count": 105,
   "id": "39b611e1",
   "metadata": {},
   "outputs": [
    {
     "data": {
      "text/plain": [
       "{'name': 'elon musk', 'suit_size': 'large', 'allergies': 'peanuts'}"
      ]
     },
     "execution_count": 105,
     "metadata": {},
     "output_type": "execute_result"
    }
   ],
   "source": [
    "astronaut"
   ]
  },
  {
   "cell_type": "code",
   "execution_count": 106,
   "id": "fa755a79",
   "metadata": {},
   "outputs": [
    {
     "data": {
      "text/plain": [
       "'large'"
      ]
     },
     "execution_count": 106,
     "metadata": {},
     "output_type": "execute_result"
    }
   ],
   "source": [
    "astronaut['suit_size']"
   ]
  },
  {
   "cell_type": "code",
   "execution_count": 107,
   "id": "cbd0d857",
   "metadata": {},
   "outputs": [
    {
     "data": {
      "text/plain": [
       "dict_keys(['name', 'suit_size', 'allergies'])"
      ]
     },
     "execution_count": 107,
     "metadata": {},
     "output_type": "execute_result"
    }
   ],
   "source": [
    "astronaut.keys()"
   ]
  },
  {
   "cell_type": "code",
   "execution_count": 108,
   "id": "d88fea42",
   "metadata": {},
   "outputs": [
    {
     "data": {
      "text/plain": [
       "dict_values(['elon musk', 'large', 'peanuts'])"
      ]
     },
     "execution_count": 108,
     "metadata": {},
     "output_type": "execute_result"
    }
   ],
   "source": [
    "astronaut.values()"
   ]
  },
  {
   "cell_type": "code",
   "execution_count": 109,
   "id": "e7232b64",
   "metadata": {},
   "outputs": [],
   "source": [
    "#Update"
   ]
  },
  {
   "cell_type": "code",
   "execution_count": 110,
   "id": "bd77b5ac",
   "metadata": {},
   "outputs": [],
   "source": [
    "astronaut['allergies']='mango'"
   ]
  },
  {
   "cell_type": "code",
   "execution_count": 111,
   "id": "0ac06d9e",
   "metadata": {},
   "outputs": [
    {
     "data": {
      "text/plain": [
       "{'name': 'elon musk', 'suit_size': 'large', 'allergies': 'mango'}"
      ]
     },
     "execution_count": 111,
     "metadata": {},
     "output_type": "execute_result"
    }
   ],
   "source": [
    "astronaut"
   ]
  },
  {
   "cell_type": "code",
   "execution_count": 112,
   "id": "40b309da",
   "metadata": {},
   "outputs": [],
   "source": [
    "astronaut['space_ship']='Galactic 1'"
   ]
  },
  {
   "cell_type": "code",
   "execution_count": 113,
   "id": "5fc35d44",
   "metadata": {},
   "outputs": [
    {
     "data": {
      "text/plain": [
       "{'name': 'elon musk',\n",
       " 'suit_size': 'large',\n",
       " 'allergies': 'mango',\n",
       " 'space_ship': 'Galactic 1'}"
      ]
     },
     "execution_count": 113,
     "metadata": {},
     "output_type": "execute_result"
    }
   ],
   "source": [
    "astronaut"
   ]
  },
  {
   "cell_type": "code",
   "execution_count": 114,
   "id": "da68ede8",
   "metadata": {},
   "outputs": [],
   "source": [
    "#Delete"
   ]
  },
  {
   "cell_type": "code",
   "execution_count": 115,
   "id": "46a80fec",
   "metadata": {},
   "outputs": [],
   "source": [
    "del astronaut['space_ship']"
   ]
  },
  {
   "cell_type": "code",
   "execution_count": 116,
   "id": "157c3da4",
   "metadata": {},
   "outputs": [
    {
     "data": {
      "text/plain": [
       "{'name': 'elon musk', 'suit_size': 'large', 'allergies': 'mango'}"
      ]
     },
     "execution_count": 116,
     "metadata": {},
     "output_type": "execute_result"
    }
   ],
   "source": [
    "astronaut"
   ]
  },
  {
   "cell_type": "markdown",
   "id": "69e6e0e3",
   "metadata": {},
   "source": [
    "# 5. Conditions and Logic"
   ]
  },
  {
   "cell_type": "code",
   "execution_count": 126,
   "id": "084467db",
   "metadata": {},
   "outputs": [
    {
     "name": "stdout",
     "output_type": "stream",
     "text": [
      "Sup Neil\n"
     ]
    }
   ],
   "source": [
    "#Appling Logic using the IF statement\n",
    "name='Suma'\n",
    "if name == 'Neil Armstrong':\n",
    "    print('Sup Neil')"
   ]
  },
  {
   "cell_type": "code",
   "execution_count": 127,
   "id": "14122740",
   "metadata": {},
   "outputs": [
    {
     "name": "stdout",
     "output_type": "stream",
     "text": [
      "number is greater than equal to 5\n"
     ]
    }
   ],
   "source": [
    "test_number = 10\n",
    "if test_number >=5:\n",
    "    print('number is greater than equal to 5')"
   ]
  },
  {
   "cell_type": "code",
   "execution_count": 131,
   "id": "6e2c2f33",
   "metadata": {},
   "outputs": [
    {
     "name": "stdout",
     "output_type": "stream",
     "text": [
      "False\n"
     ]
    }
   ],
   "source": [
    "probabilty = 0.04\n",
    "#Probabilty is greater than 0.5\n",
    "if probabilty >=0.5:\n",
    "    print(True)\n",
    "    \n",
    "#Print out a statment is probability is below\n",
    "elif probabilty < 0:\n",
    "    print('check you probabilties')\n",
    "\n",
    "    \n",
    "#Anything else\n",
    "else:\n",
    "    print(False)"
   ]
  },
  {
   "cell_type": "code",
   "execution_count": 138,
   "id": "38ea0d77",
   "metadata": {},
   "outputs": [
    {
     "name": "stdout",
     "output_type": "stream",
     "text": [
      "Elon's here\n"
     ]
    }
   ],
   "source": [
    "#vreate a list of names\n",
    "names=['neil armstrong','buzz aldrin','sally ride','yuri gagarin','elon musk']\n",
    "if 'elon musk' in names:\n",
    "    #using python escapes\n",
    "    print('Elon\\'s here')"
   ]
  },
  {
   "cell_type": "markdown",
   "id": "13be2a15",
   "metadata": {},
   "source": [
    "# 6.Loops"
   ]
  },
  {
   "cell_type": "code",
   "execution_count": 148,
   "id": "5e44e5bb",
   "metadata": {},
   "outputs": [
    {
     "name": "stdout",
     "output_type": "stream",
     "text": [
      "neil armstrong\n",
      "Please to have you here !\n",
      "\n",
      "buzz aldrin\n",
      "sup buzz\n",
      "\n",
      "sally ride\n",
      "Please to have you here !\n",
      "\n",
      "yuri gagarin\n",
      "Hey yuri\n"
     ]
    }
   ],
   "source": [
    "#thi is an example of a for Loop\n",
    "for name in names:\n",
    "    print(name)\n",
    "    \n",
    "    #Condition statement block\n",
    "    if name == 'buzz aldrin':\n",
    "        print('sup buzz\\n')\n",
    "        #Next value in the loop\n",
    "        continue\n",
    "    elif name =='yuri gagarin':\n",
    "        print('Hey yuri')\n",
    "        #Break statement stops the loop\n",
    "        break\n",
    "    #catch all\n",
    "    else:\n",
    "        #Placeholder to do nothing\n",
    "        pass\n",
    "    # outside of if statement block\n",
    "    print('Please to have you here !\\n')"
   ]
  },
  {
   "cell_type": "code",
   "execution_count": 151,
   "id": "e7e42051",
   "metadata": {},
   "outputs": [
    {
     "name": "stdout",
     "output_type": "stream",
     "text": [
      "1\n",
      "2\n",
      "3\n",
      "4\n",
      "5\n",
      "6\n",
      "7\n",
      "8\n",
      "9\n",
      "10\n"
     ]
    }
   ],
   "source": [
    "#loop x number of times\n",
    "for idx in range(1,11):\n",
    "    print(idx)"
   ]
  },
  {
   "cell_type": "code",
   "execution_count": 153,
   "id": "7147df3b",
   "metadata": {},
   "outputs": [
    {
     "name": "stdout",
     "output_type": "stream",
     "text": [
      "Shuttle 1 launched\n",
      "Shuttle 2 launched\n",
      "Shuttle 3 launched\n",
      "Shuttle 4 launched\n",
      "Shuttle 5 launched\n",
      "all shuttles launched\n"
     ]
    }
   ],
   "source": [
    "#create launch variables\n",
    "launched_shuttles=0\n",
    "total_shuttles=5\n",
    "\n",
    "#Create while loop\n",
    "while True:\n",
    "    #string formatting\n",
    "    print('Shuttle {} launched'.format(launched_shuttles+1))\n",
    "    launched_shuttles += 1 #launched_shuttles + 1\n",
    "    \n",
    "    if launched_shuttles == total_shuttles:\n",
    "        print('all shuttles launched')\n",
    "        break"
   ]
  },
  {
   "cell_type": "code",
   "execution_count": 154,
   "id": "68f8956a",
   "metadata": {},
   "outputs": [],
   "source": [
    "astronaut={\n",
    "    \"name\":\"suma\",\n",
    "    \"suit_size\":\"medium\",\n",
    "    \"allergies\":\"peanuts\"\n",
    "}"
   ]
  },
  {
   "cell_type": "code",
   "execution_count": 157,
   "id": "f2bbd399",
   "metadata": {},
   "outputs": [
    {
     "data": {
      "text/plain": [
       "dict_keys(['name', 'suit_size', 'allergies'])"
      ]
     },
     "execution_count": 157,
     "metadata": {},
     "output_type": "execute_result"
    }
   ],
   "source": [
    "#accessing dictionary keys\n",
    "astronaut.keys()"
   ]
  },
  {
   "cell_type": "code",
   "execution_count": 156,
   "id": "24140d29",
   "metadata": {},
   "outputs": [
    {
     "name": "stdout",
     "output_type": "stream",
     "text": [
      "name\n",
      "suit_size\n",
      "allergies\n"
     ]
    }
   ],
   "source": [
    "#Loop through keys in a dictiobary\n",
    "for key in astronaut.keys():\n",
    "    print(key)"
   ]
  },
  {
   "cell_type": "code",
   "execution_count": 158,
   "id": "3d0771bf",
   "metadata": {},
   "outputs": [
    {
     "data": {
      "text/plain": [
       "dict_values(['suma', 'medium', 'peanuts'])"
      ]
     },
     "execution_count": 158,
     "metadata": {},
     "output_type": "execute_result"
    }
   ],
   "source": [
    "#Accessing dictionary values\n",
    "astronaut.values()"
   ]
  },
  {
   "cell_type": "code",
   "execution_count": 159,
   "id": "25411481",
   "metadata": {},
   "outputs": [
    {
     "name": "stdout",
     "output_type": "stream",
     "text": [
      "suma\n",
      "medium\n",
      "peanuts\n"
     ]
    }
   ],
   "source": [
    "#Loop through values in a dictionary\n",
    "for value in astronaut.values():\n",
    "    print(value)"
   ]
  },
  {
   "cell_type": "code",
   "execution_count": 160,
   "id": "98e0ae8f",
   "metadata": {},
   "outputs": [
    {
     "data": {
      "text/plain": [
       "dict_items([('name', 'suma'), ('suit_size', 'medium'), ('allergies', 'peanuts')])"
      ]
     },
     "execution_count": 160,
     "metadata": {},
     "output_type": "execute_result"
    }
   ],
   "source": [
    "astronaut.items()"
   ]
  },
  {
   "cell_type": "code",
   "execution_count": 165,
   "id": "b53ff949",
   "metadata": {},
   "outputs": [
    {
     "name": "stdout",
     "output_type": "stream",
     "text": [
      "name\n",
      "suma \n",
      "\n",
      "suit_size\n",
      "medium \n",
      "\n",
      "allergies\n",
      "peanuts \n",
      "\n"
     ]
    }
   ],
   "source": [
    "#loop through keys and values at the same time\n",
    "for key, value in astronaut.items():\n",
    "    print(key)\n",
    "    print(value ,'\\n')"
   ]
  },
  {
   "cell_type": "code",
   "execution_count": 167,
   "id": "fd025417",
   "metadata": {},
   "outputs": [],
   "source": [
    "#list comprehensions\n",
    "new_list=[name.title() for name in names]"
   ]
  },
  {
   "cell_type": "code",
   "execution_count": 168,
   "id": "2eabefa3",
   "metadata": {},
   "outputs": [
    {
     "data": {
      "text/plain": [
       "['Neil Armstrong', 'Buzz Aldrin', 'Sally Ride', 'Yuri Gagarin', 'Elon Musk']"
      ]
     },
     "execution_count": 168,
     "metadata": {},
     "output_type": "execute_result"
    }
   ],
   "source": [
    "new_list"
   ]
  },
  {
   "cell_type": "code",
   "execution_count": 169,
   "id": "d87b2643",
   "metadata": {},
   "outputs": [
    {
     "data": {
      "text/plain": [
       "['neil armstrong', 'buzz aldrin', 'sally ride', 'yuri gagarin', 'elon musk']"
      ]
     },
     "execution_count": 169,
     "metadata": {},
     "output_type": "execute_result"
    }
   ],
   "source": [
    "names"
   ]
  },
  {
   "cell_type": "markdown",
   "id": "f973b6db",
   "metadata": {},
   "source": [
    "# 7.Functions"
   ]
  },
  {
   "cell_type": "code",
   "execution_count": 174,
   "id": "49669082",
   "metadata": {},
   "outputs": [],
   "source": [
    "#Defining a function in python - Recipe\n",
    "def launchpad_welcome():\n",
    "    print('hello')\n",
    "    print(1+2)\n",
    "    print(3+4)"
   ]
  },
  {
   "cell_type": "code",
   "execution_count": 175,
   "id": "d788046a",
   "metadata": {},
   "outputs": [
    {
     "name": "stdout",
     "output_type": "stream",
     "text": [
      "hello\n",
      "3\n",
      "7\n"
     ]
    }
   ],
   "source": [
    "#running aour function\n",
    "launchpad_welcome()"
   ]
  },
  {
   "cell_type": "code",
   "execution_count": 176,
   "id": "fa820f56",
   "metadata": {},
   "outputs": [
    {
     "name": "stdout",
     "output_type": "stream",
     "text": [
      "hello\n",
      "3\n",
      "7\n",
      "hello\n",
      "3\n",
      "7\n",
      "hello\n",
      "3\n",
      "7\n",
      "hello\n",
      "3\n",
      "7\n",
      "hello\n",
      "3\n",
      "7\n",
      "hello\n",
      "3\n",
      "7\n",
      "hello\n",
      "3\n",
      "7\n",
      "hello\n",
      "3\n",
      "7\n",
      "hello\n",
      "3\n",
      "7\n",
      "hello\n",
      "3\n",
      "7\n"
     ]
    }
   ],
   "source": [
    "for idx in range(10):\n",
    "    launchpad_welcome()"
   ]
  },
  {
   "cell_type": "code",
   "execution_count": null,
   "id": "bc1f52a8",
   "metadata": {},
   "outputs": [],
   "source": [
    "names=['neil armstrong','buzz aldrin','sally ride','yuri gagarin','elon musk']\n"
   ]
  },
  {
   "cell_type": "code",
   "execution_count": 184,
   "id": "0348766e",
   "metadata": {},
   "outputs": [],
   "source": [
    "#positional Arguments\n",
    "def custom_welcome(name):\n",
    "    print('Welcome {}'.format(name)) #string formating\n",
    "    "
   ]
  },
  {
   "cell_type": "code",
   "execution_count": 186,
   "id": "575615fb",
   "metadata": {},
   "outputs": [
    {
     "name": "stdout",
     "output_type": "stream",
     "text": [
      "welcome suma bimantoro andru\n"
     ]
    }
   ],
   "source": [
    "custom_welcome('suma bimantoro andru')"
   ]
  },
  {
   "cell_type": "code",
   "execution_count": 190,
   "id": "10bb8853",
   "metadata": {},
   "outputs": [
    {
     "name": "stdout",
     "output_type": "stream",
     "text": [
      "welcome neil armstrong\n",
      "welcome buzz aldrin\n",
      "welcome sally ride\n",
      "welcome yuri gagarin\n",
      "welcome elon musk\n"
     ]
    }
   ],
   "source": [
    "for name in names:\n",
    "    custom_welcome(name)"
   ]
  },
  {
   "cell_type": "code",
   "execution_count": 192,
   "id": "bf71e23a",
   "metadata": {},
   "outputs": [],
   "source": [
    "#Multiple positional Arguments -POSITION IS IMPORTANT\n",
    "def custom_welcome_to_ship(name,space_ship):\n",
    "    print('Welcome {} to the {}'.format(name, space_ship)) #string formating"
   ]
  },
  {
   "cell_type": "code",
   "execution_count": 193,
   "id": "337986cc",
   "metadata": {},
   "outputs": [
    {
     "name": "stdout",
     "output_type": "stream",
     "text": [
      "Welcome suma to the Galatic 1\n"
     ]
    }
   ],
   "source": [
    "custom_welcome_to_ship('suma','Galatic 1')"
   ]
  },
  {
   "cell_type": "code",
   "execution_count": 194,
   "id": "7442ff01",
   "metadata": {},
   "outputs": [],
   "source": [
    "space_ships=['Galactic 1','Galactic 2','USS Voyager','Maximum Amazing Wow Space Ship','Apple Space Ship']"
   ]
  },
  {
   "cell_type": "code",
   "execution_count": 196,
   "id": "362f21af",
   "metadata": {},
   "outputs": [
    {
     "data": {
      "text/plain": [
       "'Galactic 1'"
      ]
     },
     "execution_count": 196,
     "metadata": {},
     "output_type": "execute_result"
    }
   ],
   "source": [
    "space_ships[0]"
   ]
  },
  {
   "cell_type": "code",
   "execution_count": 197,
   "id": "c9c640a1",
   "metadata": {},
   "outputs": [
    {
     "name": "stdout",
     "output_type": "stream",
     "text": [
      "Welcome neil armstrong to the Galactic 1\n",
      "Welcome buzz aldrin to the Galactic 2\n",
      "Welcome sally ride to the USS Voyager\n",
      "Welcome yuri gagarin to the Maximum Amazing Wow Space Ship\n",
      "Welcome elon musk to the Apple Space Ship\n"
     ]
    }
   ],
   "source": [
    "#Used the enumarate function to get the psositional\n",
    "for idx,name in enumerate(names):\n",
    "    ship=space_ships[idx]\n",
    "    custom_welcome_to_ship(name, ship)"
   ]
  },
  {
   "cell_type": "code",
   "execution_count": 200,
   "id": "413a2dbe",
   "metadata": {},
   "outputs": [],
   "source": [
    "#this is using keyword arguments\n",
    "def space_suit(color='Blue'):\n",
    "    print('your space suit is {}'.format(color))"
   ]
  },
  {
   "cell_type": "code",
   "execution_count": 201,
   "id": "ce1b6dd4",
   "metadata": {},
   "outputs": [
    {
     "name": "stdout",
     "output_type": "stream",
     "text": [
      "your space suit is Blue\n"
     ]
    }
   ],
   "source": [
    "space_suit()"
   ]
  },
  {
   "cell_type": "code",
   "execution_count": 202,
   "id": "f9f8e48c",
   "metadata": {},
   "outputs": [
    {
     "name": "stdout",
     "output_type": "stream",
     "text": [
      "your space suit is red\n"
     ]
    }
   ],
   "source": [
    "space_suit(color='red')"
   ]
  },
  {
   "cell_type": "code",
   "execution_count": 206,
   "id": "58b42531",
   "metadata": {},
   "outputs": [],
   "source": [
    "#Multiple keyword arguments\n",
    "def space_suit_welcome(name,space_ship,color='Blue',allergies='none'):\n",
    "    print('welcome {} to the {}, your space suit is {}, you have {} allergies'.format(name,space_ship,color,allergies))"
   ]
  },
  {
   "cell_type": "code",
   "execution_count": 207,
   "id": "aa593773",
   "metadata": {},
   "outputs": [
    {
     "name": "stdout",
     "output_type": "stream",
     "text": [
      "welcome Elon Musk to the Apple iship, your space suit is red, you have none allergies\n"
     ]
    }
   ],
   "source": [
    "space_suit_welcome('Elon Musk','Apple iship',color='red')"
   ]
  },
  {
   "cell_type": "code",
   "execution_count": 208,
   "id": "8653bd11",
   "metadata": {},
   "outputs": [
    {
     "name": "stdout",
     "output_type": "stream",
     "text": [
      "welcome Elon Musk to the Apple iship, your space suit is red, you have water allergies\n"
     ]
    }
   ],
   "source": [
    "space_suit_welcome('Elon Musk','Apple iship',color='red',allergies='water')"
   ]
  },
  {
   "cell_type": "code",
   "execution_count": 209,
   "id": "4c8c9f27",
   "metadata": {},
   "outputs": [],
   "source": [
    "#setup a return statement\n",
    "def space_suit_welcome_with_return(name,space_ship,color='Blue',allergies='none'):\n",
    "    return 'welcome {} to the {}, your space suit is {}, you have {} allergies'.format(name,space_ship,color,allergies)"
   ]
  },
  {
   "cell_type": "code",
   "execution_count": 210,
   "id": "f1b2470d",
   "metadata": {},
   "outputs": [
    {
     "data": {
      "text/plain": [
       "'welcome elon musk to the apple iship, your space suit is Blue, you have none allergies'"
      ]
     },
     "execution_count": 210,
     "metadata": {},
     "output_type": "execute_result"
    }
   ],
   "source": [
    "space_suit_welcome_with_return('elon musk','apple iship')"
   ]
  },
  {
   "cell_type": "code",
   "execution_count": 211,
   "id": "ec51f6a7",
   "metadata": {},
   "outputs": [],
   "source": [
    "#Example of storing the result of the function inside a variable\n",
    "welcome=space_suit_welcome_with_return('elon musk','apple iship')"
   ]
  },
  {
   "cell_type": "code",
   "execution_count": 212,
   "id": "9643740e",
   "metadata": {},
   "outputs": [
    {
     "name": "stdout",
     "output_type": "stream",
     "text": [
      "welcome elon musk to the apple iship, your space suit is Blue, you have none allergies\n"
     ]
    }
   ],
   "source": [
    "print(welcome)"
   ]
  },
  {
   "cell_type": "code",
   "execution_count": 213,
   "id": "dffbb4b9",
   "metadata": {},
   "outputs": [],
   "source": [
    "# Lambda function anonymous function\n",
    "pi= lambda x: x*3.14"
   ]
  },
  {
   "cell_type": "code",
   "execution_count": 214,
   "id": "5023397a",
   "metadata": {},
   "outputs": [
    {
     "data": {
      "text/plain": [
       "6.28"
      ]
     },
     "execution_count": 214,
     "metadata": {},
     "output_type": "execute_result"
    }
   ],
   "source": [
    "pi(2)"
   ]
  },
  {
   "cell_type": "code",
   "execution_count": 216,
   "id": "5cc5df52",
   "metadata": {},
   "outputs": [],
   "source": [
    "return_value=pi(2)"
   ]
  },
  {
   "cell_type": "code",
   "execution_count": 217,
   "id": "66482f02",
   "metadata": {},
   "outputs": [
    {
     "name": "stdout",
     "output_type": "stream",
     "text": [
      "6.28\n"
     ]
    }
   ],
   "source": [
    "print(return_value)"
   ]
  },
  {
   "cell_type": "code",
   "execution_count": 215,
   "id": "2902b90c",
   "metadata": {},
   "outputs": [
    {
     "data": {
      "text/plain": [
       "6.28"
      ]
     },
     "execution_count": 215,
     "metadata": {},
     "output_type": "execute_result"
    }
   ],
   "source": [
    "3.14*2"
   ]
  },
  {
   "cell_type": "code",
   "execution_count": null,
   "id": "995bbcd6",
   "metadata": {},
   "outputs": [],
   "source": []
  },
  {
   "cell_type": "code",
   "execution_count": null,
   "id": "dc70cd42",
   "metadata": {},
   "outputs": [],
   "source": []
  },
  {
   "cell_type": "code",
   "execution_count": null,
   "id": "98910097",
   "metadata": {},
   "outputs": [],
   "source": []
  },
  {
   "cell_type": "code",
   "execution_count": null,
   "id": "67a55a99",
   "metadata": {},
   "outputs": [],
   "source": []
  },
  {
   "cell_type": "code",
   "execution_count": null,
   "id": "f93dbd54",
   "metadata": {},
   "outputs": [],
   "source": []
  },
  {
   "cell_type": "code",
   "execution_count": null,
   "id": "9bb3be95",
   "metadata": {},
   "outputs": [],
   "source": []
  }
 ],
 "metadata": {
  "kernelspec": {
   "display_name": "Python 3 (ipykernel)",
   "language": "python",
   "name": "python3"
  },
  "language_info": {
   "codemirror_mode": {
    "name": "ipython",
    "version": 3
   },
   "file_extension": ".py",
   "mimetype": "text/x-python",
   "name": "python",
   "nbconvert_exporter": "python",
   "pygments_lexer": "ipython3",
   "version": "3.9.12"
  }
 },
 "nbformat": 4,
 "nbformat_minor": 5
}
